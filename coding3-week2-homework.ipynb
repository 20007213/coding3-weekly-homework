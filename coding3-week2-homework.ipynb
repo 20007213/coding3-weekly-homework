{
 "cells": [
  {
   "cell_type": "markdown",
   "metadata": {
    "id": "s8a_TDA0eOtn"
   },
   "source": [
    "# Intro to simple text classification in keras"
   ]
  },
  {
   "cell_type": "code",
   "execution_count": 1,
   "metadata": {
    "id": "iX-_2g9yeOtp"
   },
   "outputs": [],
   "source": [
    "# Do our imports\n",
    "import numpy as np\n",
    "import tensorflow as tf\n",
    "from keras.models import Sequential #base keras model\n",
    "from keras.layers import Dense, Activation #dense = fully connected layer\n",
    "from tensorflow.keras.optimizers import SGD"
   ]
  },
  {
   "cell_type": "code",
   "execution_count": 2,
   "metadata": {
    "id": "zRW0av17eOtt"
   },
   "outputs": [],
   "source": [
    "#if any of these give you problems, make sure you've installed all libraries used (pandas, sklearn, and matplot lib)\n",
    "# using conda install or pip install\n",
    "# see the moodle page \"Instructions for setting up and using Python and Jupyter\" for more info on how to do this\n",
    "import pandas as pd\n",
    "from sklearn.feature_extraction import _stop_words\n",
    "from sklearn.metrics.pairwise import cosine_similarity as cosine\n",
    "from sklearn.feature_extraction.text import TfidfVectorizer\n",
    "from sklearn.feature_extraction.text import CountVectorizer\n",
    "from sklearn.feature_extraction.text import TfidfTransformer\n",
    "from sklearn.decomposition import TruncatedSVD\n",
    "from sklearn.model_selection import train_test_split\n",
    "import matplotlib.pyplot as plt"
   ]
  },
  {
   "cell_type": "markdown",
   "metadata": {
    "id": "hwhcWbk_eOtt"
   },
   "source": [
    "## Loading a dataset\n",
    "\n",
    "We're going to use a small set of 1000 movie reviews from IMDB. [The original dataset can be found here.](https://www.kaggle.com/datasets/lakshmi25npathi/imdb-dataset-of-50k-movie-reviews?resource=download) \n",
    "\n",
    "Here's how to load in the dataset into the notebook:"
   ]
  },
  {
   "cell_type": "code",
   "execution_count": 3,
   "metadata": {
    "id": "KM6fXWZafsod"
   },
   "outputs": [],
   "source": [
    "# This assumes the IMDBsubset.csv file lives in a directory called \"data\" which lives in the same directory as this notebook.\n",
    "# ***if you want to edit this notebook to use a different dataset, edit this to specify a different file:\n",
    "df = pd.read_csv(\"data/IMDBsubset.csv\")"
   ]
  },
  {
   "cell_type": "markdown",
   "metadata": {},
   "source": [
    "Now we've got the data read in! We've used a special data type called a \"data frame\", using the Pandas library, to store this data. Pandas makes working with data pretty convenient.\n",
    "\n",
    "Printing df will show you the data in a table-like format (specifically, it'll show you the first and last few rows of the table).\n",
    "\n",
    "**Note that a sentiment of \"1\" means \"positive\" and \"0\" means \"negative\"**"
   ]
  },
  {
   "cell_type": "code",
   "execution_count": 4,
   "metadata": {
    "scrolled": true
   },
   "outputs": [
    {
     "data": {
      "text/html": [
       "<div>\n",
       "<style scoped>\n",
       "    .dataframe tbody tr th:only-of-type {\n",
       "        vertical-align: middle;\n",
       "    }\n",
       "\n",
       "    .dataframe tbody tr th {\n",
       "        vertical-align: top;\n",
       "    }\n",
       "\n",
       "    .dataframe thead th {\n",
       "        text-align: right;\n",
       "    }\n",
       "</style>\n",
       "<table border=\"1\" class=\"dataframe\">\n",
       "  <thead>\n",
       "    <tr style=\"text-align: right;\">\n",
       "      <th></th>\n",
       "      <th>review</th>\n",
       "      <th>sentiment</th>\n",
       "    </tr>\n",
       "  </thead>\n",
       "  <tbody>\n",
       "    <tr>\n",
       "      <th>0</th>\n",
       "      <td>One of the other reviewers has mentioned that ...</td>\n",
       "      <td>1</td>\n",
       "    </tr>\n",
       "    <tr>\n",
       "      <th>1</th>\n",
       "      <td>A wonderful little production. &lt;br /&gt;&lt;br /&gt;The...</td>\n",
       "      <td>1</td>\n",
       "    </tr>\n",
       "    <tr>\n",
       "      <th>2</th>\n",
       "      <td>I thought this was a wonderful way to spend ti...</td>\n",
       "      <td>1</td>\n",
       "    </tr>\n",
       "    <tr>\n",
       "      <th>3</th>\n",
       "      <td>Basically there's a family where a little boy ...</td>\n",
       "      <td>0</td>\n",
       "    </tr>\n",
       "    <tr>\n",
       "      <th>4</th>\n",
       "      <td>Petter Mattei's \"Love in the Time of Money\" is...</td>\n",
       "      <td>1</td>\n",
       "    </tr>\n",
       "    <tr>\n",
       "      <th>...</th>\n",
       "      <td>...</td>\n",
       "      <td>...</td>\n",
       "    </tr>\n",
       "    <tr>\n",
       "      <th>995</th>\n",
       "      <td>Nothing is sacred. Just ask Ernie Fosselius. T...</td>\n",
       "      <td>1</td>\n",
       "    </tr>\n",
       "    <tr>\n",
       "      <th>996</th>\n",
       "      <td>I hated it. I hate self-aware pretentious inan...</td>\n",
       "      <td>0</td>\n",
       "    </tr>\n",
       "    <tr>\n",
       "      <th>997</th>\n",
       "      <td>I usually try to be professional and construct...</td>\n",
       "      <td>0</td>\n",
       "    </tr>\n",
       "    <tr>\n",
       "      <th>998</th>\n",
       "      <td>If you like me is going to see this in a film ...</td>\n",
       "      <td>0</td>\n",
       "    </tr>\n",
       "    <tr>\n",
       "      <th>999</th>\n",
       "      <td>This is like a zoology textbook, given that it...</td>\n",
       "      <td>0</td>\n",
       "    </tr>\n",
       "  </tbody>\n",
       "</table>\n",
       "<p>1000 rows × 2 columns</p>\n",
       "</div>"
      ],
      "text/plain": [
       "                                                review  sentiment\n",
       "0    One of the other reviewers has mentioned that ...          1\n",
       "1    A wonderful little production. <br /><br />The...          1\n",
       "2    I thought this was a wonderful way to spend ti...          1\n",
       "3    Basically there's a family where a little boy ...          0\n",
       "4    Petter Mattei's \"Love in the Time of Money\" is...          1\n",
       "..                                                 ...        ...\n",
       "995  Nothing is sacred. Just ask Ernie Fosselius. T...          1\n",
       "996  I hated it. I hate self-aware pretentious inan...          0\n",
       "997  I usually try to be professional and construct...          0\n",
       "998  If you like me is going to see this in a film ...          0\n",
       "999  This is like a zoology textbook, given that it...          0\n",
       "\n",
       "[1000 rows x 2 columns]"
      ]
     },
     "execution_count": 4,
     "metadata": {},
     "output_type": "execute_result"
    }
   ],
   "source": [
    "df"
   ]
  },
  {
   "cell_type": "markdown",
   "metadata": {},
   "source": [
    "This is great, but if we want to read the full reviews (handy for later) then we can change our display options:"
   ]
  },
  {
   "cell_type": "code",
   "execution_count": 5,
   "metadata": {
    "scrolled": true
   },
   "outputs": [
    {
     "data": {
      "text/html": [
       "<div>\n",
       "<style scoped>\n",
       "    .dataframe tbody tr th:only-of-type {\n",
       "        vertical-align: middle;\n",
       "    }\n",
       "\n",
       "    .dataframe tbody tr th {\n",
       "        vertical-align: top;\n",
       "    }\n",
       "\n",
       "    .dataframe thead th {\n",
       "        text-align: right;\n",
       "    }\n",
       "</style>\n",
       "<table border=\"1\" class=\"dataframe\">\n",
       "  <thead>\n",
       "    <tr style=\"text-align: right;\">\n",
       "      <th></th>\n",
       "      <th>review</th>\n",
       "      <th>sentiment</th>\n",
       "    </tr>\n",
       "  </thead>\n",
       "  <tbody>\n",
       "    <tr>\n",
       "      <th>0</th>\n",
       "      <td>One of the other reviewers has mentioned that after watching just 1 Oz episode you'll be hooked. They are right, as this is exactly what happened with me.&lt;br /&gt;&lt;br /&gt;The first thing that struck me about Oz was its brutality and unflinching scenes of violence, which set in right from the word GO. Trust me, this is not a show for the faint hearted or timid. This show pulls no punches with regards to drugs, sex or violence. Its is hardcore, in the classic use of the word.&lt;br /&gt;&lt;br /&gt;It is called OZ as that is the nickname given to the Oswald Maximum Security State Penitentary. It focuses mainly on Emerald City, an experimental section of the prison where all the cells have glass fronts and face inwards, so privacy is not high on the agenda. Em City is home to many..Aryans, Muslims, gangstas, Latinos, Christians, Italians, Irish and more....so scuffles, death stares, dodgy dealings and shady agreements are never far away.&lt;br /&gt;&lt;br /&gt;I would say the main appeal of the show is due to the fact that it goes where other shows wouldn't dare. Forget pretty pictures painted for mainstream audiences, forget charm, forget romance...OZ doesn't mess around. The first episode I ever saw struck me as so nasty it was surreal, I couldn't say I was ready for it, but as I watched more, I developed a taste for Oz, and got accustomed to the high levels of graphic violence. Not just violence, but injustice (crooked guards who'll be sold out for a nickel, inmates who'll kill on order and get away with it, well mannered, middle class inmates being turned into prison bitches due to their lack of street skills or prison experience) Watching Oz, you may become comfortable with what is uncomfortable viewing....thats if you can get in touch with your darker side.</td>\n",
       "      <td>1</td>\n",
       "    </tr>\n",
       "    <tr>\n",
       "      <th>1</th>\n",
       "      <td>A wonderful little production. &lt;br /&gt;&lt;br /&gt;The filming technique is very unassuming- very old-time-BBC fashion and gives a comforting, and sometimes discomforting, sense of realism to the entire piece. &lt;br /&gt;&lt;br /&gt;The actors are extremely well chosen- Michael Sheen not only \"has got all the polari\" but he has all the voices down pat too! You can truly see the seamless editing guided by the references to Williams' diary entries, not only is it well worth the watching but it is a terrificly written and performed piece. A masterful production about one of the great master's of comedy and his life. &lt;br /&gt;&lt;br /&gt;The realism really comes home with the little things: the fantasy of the guard which, rather than use the traditional 'dream' techniques remains solid then disappears. It plays on our knowledge and our senses, particularly with the scenes concerning Orton and Halliwell and the sets (particularly of their flat with Halliwell's murals decorating every surface) are terribly well done.</td>\n",
       "      <td>1</td>\n",
       "    </tr>\n",
       "    <tr>\n",
       "      <th>2</th>\n",
       "      <td>I thought this was a wonderful way to spend time on a too hot summer weekend, sitting in the air conditioned theater and watching a light-hearted comedy. The plot is simplistic, but the dialogue is witty and the characters are likable (even the well bread suspected serial killer). While some may be disappointed when they realize this is not Match Point 2: Risk Addiction, I thought it was proof that Woody Allen is still fully in control of the style many of us have grown to love.&lt;br /&gt;&lt;br /&gt;This was the most I'd laughed at one of Woody's comedies in years (dare I say a decade?). While I've never been impressed with Scarlet Johanson, in this she managed to tone down her \"sexy\" image and jumped right into a average, but spirited young woman.&lt;br /&gt;&lt;br /&gt;This may not be the crown jewel of his career, but it was wittier than \"Devil Wears Prada\" and more interesting than \"Superman\" a great comedy to go see with friends.</td>\n",
       "      <td>1</td>\n",
       "    </tr>\n",
       "    <tr>\n",
       "      <th>3</th>\n",
       "      <td>Basically there's a family where a little boy (Jake) thinks there's a zombie in his closet &amp; his parents are fighting all the time.&lt;br /&gt;&lt;br /&gt;This movie is slower than a soap opera... and suddenly, Jake decides to become Rambo and kill the zombie.&lt;br /&gt;&lt;br /&gt;OK, first of all when you're going to make a film you must Decide if its a thriller or a drama! As a drama the movie is watchable. Parents are divorcing &amp; arguing like in real life. And then we have Jake with his closet which totally ruins all the film! I expected to see a BOOGEYMAN similar movie, and instead i watched a drama with some meaningless thriller spots.&lt;br /&gt;&lt;br /&gt;3 out of 10 just for the well playing parents &amp; descent dialogs. As for the shots with Jake: just ignore them.</td>\n",
       "      <td>0</td>\n",
       "    </tr>\n",
       "    <tr>\n",
       "      <th>4</th>\n",
       "      <td>Petter Mattei's \"Love in the Time of Money\" is a visually stunning film to watch. Mr. Mattei offers us a vivid portrait about human relations. This is a movie that seems to be telling us what money, power and success do to people in the different situations we encounter. &lt;br /&gt;&lt;br /&gt;This being a variation on the Arthur Schnitzler's play about the same theme, the director transfers the action to the present time New York where all these different characters meet and connect. Each one is connected in one way, or another to the next person, but no one seems to know the previous point of contact. Stylishly, the film has a sophisticated luxurious look. We are taken to see how these people live and the world they live in their own habitat.&lt;br /&gt;&lt;br /&gt;The only thing one gets out of all these souls in the picture is the different stages of loneliness each one inhabits. A big city is not exactly the best place in which human relations find sincere fulfillment, as one discerns is the case with most of the people we encounter.&lt;br /&gt;&lt;br /&gt;The acting is good under Mr. Mattei's direction. Steve Buscemi, Rosario Dawson, Carol Kane, Michael Imperioli, Adrian Grenier, and the rest of the talented cast, make these characters come alive.&lt;br /&gt;&lt;br /&gt;We wish Mr. Mattei good luck and await anxiously for his next work.</td>\n",
       "      <td>1</td>\n",
       "    </tr>\n",
       "    <tr>\n",
       "      <th>...</th>\n",
       "      <td>...</td>\n",
       "      <td>...</td>\n",
       "    </tr>\n",
       "    <tr>\n",
       "      <th>995</th>\n",
       "      <td>Nothing is sacred. Just ask Ernie Fosselius. These days, everybody has a video camera, and a movie is hardly out before the spoofs start flying, quickly written and shot, and often posted directly to the internet. Spoofs are hot these days, and we go out of our way to make sure filmmakers don't get off on their own self-importance. 25 years ago, when the first Star Wars was made, it was a different world. Filmmaking was the playground of a select few and spoofs were very rare. Then God gave us Hardware Wars. It was shot to look cheap (or was it just cheap?) and the audio was obviously recorded after the fact. Does that take away from the experience? HECK NO! That's what makes it so great! It was raw and unpolished, and hit relentlessly on some of the more pretentious moments of the original movie. From Fluke Starbucker waving around a flashlight instead of a lightsaber (I did that when I was young!) to Chewchilla the Wookie Monster, to Auggie Ben Doggie's \"nah, just a little headache\" remark, this film short is as much a part of the phenomenon as any of the actual Star Wars films. Rent it. Buy it. Borrow it from a friend. And may the Farce be with you. Always.</td>\n",
       "      <td>1</td>\n",
       "    </tr>\n",
       "    <tr>\n",
       "      <th>996</th>\n",
       "      <td>I hated it. I hate self-aware pretentious inanity that masquerades as art. This film is either stupidly inane or inanely stupid. After the first half hour, I fastfowarded through the DVD version, and saw the same juvenile shennanigans over and over and over. I became angered that I had spent hard-earned money for sophomoric clap-trap. Tinting drivel in sepia or blue does not make something a movie, let alone art.</td>\n",
       "      <td>0</td>\n",
       "    </tr>\n",
       "    <tr>\n",
       "      <th>997</th>\n",
       "      <td>I usually try to be professional and constructive when I criticize movies, but my GOD!!! This was THE worst movie I have ever seen. Bad acting, bad effects, bad script, bad everything! &lt;br /&gt;&lt;br /&gt;The plot follows a group of teen cliche's on their way to a rave (that takes place in broad daylight) at a remote island. However, when the group arrives, all they find is an empty dance floor and bloody clothes. Determined to find out what happened to the rest of the party-goers, the clan set's off on a mission through a zombie-infested forest. During this crusade, they are aided by a police chick and a sea captain that just happens to have the right number of weapons to give to each of the kids. They also meet up with Jonathan Cherry and some other survivors. Basically the rest of the movie is a collection of poorly directed action sequences including a far too long shootout outside of the \"house of the dead.\" This fight came complete with cheesy Hollywood violence, redundant clips from the HOTD video game, and sloppy matrix-esque camera rotations. One of the character's even volunteers to sacrifice himself to save the others. Why? Not because he was noble and brave, but because part of his face got scarred by acid a zombie spat on him after he continued to beat the creature long after it had been disabled! I'm supposed to feel sorry for this guy?!?&lt;br /&gt;&lt;br /&gt;To sum it all up, there is absolutely no point in seeing this movie unless you want to see for yourself just how terrible it is. The theater I was in was more dead than the zombies on the screen, and I'm sure the money I wasted seeing this piece of sh*t could easily cover the costs it took to make it. GRADE: F</td>\n",
       "      <td>0</td>\n",
       "    </tr>\n",
       "    <tr>\n",
       "      <th>998</th>\n",
       "      <td>If you like me is going to see this in a film history class or something like that at your school, try to convince your teacher to see something else. believe me, anything is better than this movie. it is slow paced, confusing, boring, poorly constructed, gory, gringy, do I need to go on? It's message is good, but I have seen them been handled better in several other films. The acting isn't even any good. This movie is just even more awkward, as it start off as being funny (not intensional though)because of it's surreal story, than at the end, just becomes uncomfortable to watch.&lt;br /&gt;&lt;br /&gt;I honestly feel like 1 hour and 40 minutes of my life has been robbed. Why would anyone want to watch a girls describe a threesome for 10 minutes, than watch them drive through a traffic jam for 20 minutes, listen to a hippie who can make sheep appear, witness a sort of rape, than see the female lead role eat her husband.&lt;br /&gt;&lt;br /&gt;Honestly this movie deserves nothing but a 1/10. And if your not happy with my preview,seriously I'm an open minded guy and I like movies that protest through symbolism, but this movie was just awful. make any excuse you can, to avoid this film.</td>\n",
       "      <td>0</td>\n",
       "    </tr>\n",
       "    <tr>\n",
       "      <th>999</th>\n",
       "      <td>This is like a zoology textbook, given that its depiction of animals is so accurate. However, here are a few details that appear to have been slightly modified during the transition to film:&lt;br /&gt;&lt;br /&gt;- Handgun bullets never hit giant Komodo dragons. It doesn't matter how many times you shoot at the Komodo, bullets just won't go near it.&lt;br /&gt;&lt;br /&gt;- The best way to avoid being eaten by a giant Cobra, or a giant Komodo dragon, is just to stand there. The exception to this rule is if you've been told to stay very still, in which case you should run off, until the Komodo is right next to you, and then you should stand there, expecting defeat.&lt;br /&gt;&lt;br /&gt;- Minutes of choppy slow motion footage behind the credits really makes for enjoyable watching.&lt;br /&gt;&lt;br /&gt;- $5,000 is a memory enhancement tool, and an ample substitute for losing your boating license/getting arrested.&lt;br /&gt;&lt;br /&gt;- Members of elite army units don't see giant Komodo dragons coming until they are within one metre of the over-sized beings. Maybe the computer-generated nature of these dragons has something to do with it.&lt;br /&gt;&lt;br /&gt;- When filming a news story aiming on exposing illegal animal testing, a reporter and a cameraman with one camera is all the gear and personnel you will need; sound gear, a second camera, microphones etc are all superfluous.&lt;br /&gt;&lt;br /&gt;- When you hear a loud animal scream, and one person has a gun, he should take it out and point it at the nearest person.&lt;br /&gt;&lt;br /&gt;- When you take a gun out, the sound of the safety being taken off will be made, even if your finger is nowhere near the safety&lt;br /&gt;&lt;br /&gt;- Reporters agree to go half-way around the world in order to expose something - without having the faintest idea what they're exposing. Background research and vague knowledge are out of fashion in modern journalism.&lt;br /&gt;&lt;br /&gt;- Handguns hold at least 52 bullets in one clip, and then more than that in the next clip. Despite that, those with guns claim that they will need more ammo.&lt;br /&gt;&lt;br /&gt;- Expensive cameras (also, remember that the reporter only has one camera) are regularly left behind without even a moment's hesitation or regret. These cameras amazingly manage to make their way back to the reporter all by themselves.&lt;br /&gt;&lt;br /&gt;- The blonde girl really is the stupid one.&lt;br /&gt;&lt;br /&gt;- The same girl that says not to go into a house because a Komodo dragon can easily run right through it, thus making it unsafe, takes a team into a building made of the same material for protection - and nobody says a word about it.&lt;br /&gt;&lt;br /&gt;- High-tech facilities look like simple offices with high school chemistry sets.&lt;br /&gt;&lt;br /&gt;- Genetically-modified snakes grow from normal size to 100 feet long in a matter of a day, but don't grow at all in the weeks either side.&lt;br /&gt;&lt;br /&gt;- The military routinely destroys entire islands when people don't meet contact deadlines.&lt;br /&gt;&lt;br /&gt;- Men with guns don't necessarily change the direction they're shooting when their target is no longer right in front of them. Instead, they just keep shooting into the air.&lt;br /&gt;&lt;br /&gt;- The better looking you are, the greater your chance of surviving giant creatures.&lt;br /&gt;&lt;br /&gt;- Women's intuition is reliable enough to change even the most stubborn of minds.&lt;br /&gt;&lt;br /&gt;- Any time you're being hunted by giant creatures is a great time to hit on girls half your age.&lt;br /&gt;&lt;br /&gt;- Animal noises are an appropriate masking noise for 'swearing' at the same volume.&lt;br /&gt;&lt;br /&gt;- Old Israeli and Russian planes are regularly used by the US Military.</td>\n",
       "      <td>0</td>\n",
       "    </tr>\n",
       "  </tbody>\n",
       "</table>\n",
       "<p>1000 rows × 2 columns</p>\n",
       "</div>"
      ],
      "text/plain": [
       "                                                                                                                                                                                                                                                                                                                                                                                                                                                                                                                                                                                                                                                                                                                                                                                                                                                                                                                                                                                                                                                                                                                                                                                                                                                                                                                                                                                                                                                                                                                                                                                                                                                                                                                                                                                                                                                                                                                                                                                                                                                                                                                                                                                                                                                                                                                                                                                                                                                                                                                                                                                                                                                                                                                                                                                                                                                                                                                                                                                                                                                                                                                                                                                                                                                                                                                                                                                                                                                                                                                                                                                                                                                                                                  review  \\\n",
       "0                                                                                                                                                                                                                                                                                                                                                                                                                                                                                                                                                                                                                                                                                                                                                                                                                                                                                                                                                                                                                                                                                                                                                                                                                                                                                                                                                                                                                                                                                                                                                                                                                                                                                                                                                                                                                                                                      One of the other reviewers has mentioned that after watching just 1 Oz episode you'll be hooked. They are right, as this is exactly what happened with me.<br /><br />The first thing that struck me about Oz was its brutality and unflinching scenes of violence, which set in right from the word GO. Trust me, this is not a show for the faint hearted or timid. This show pulls no punches with regards to drugs, sex or violence. Its is hardcore, in the classic use of the word.<br /><br />It is called OZ as that is the nickname given to the Oswald Maximum Security State Penitentary. It focuses mainly on Emerald City, an experimental section of the prison where all the cells have glass fronts and face inwards, so privacy is not high on the agenda. Em City is home to many..Aryans, Muslims, gangstas, Latinos, Christians, Italians, Irish and more....so scuffles, death stares, dodgy dealings and shady agreements are never far away.<br /><br />I would say the main appeal of the show is due to the fact that it goes where other shows wouldn't dare. Forget pretty pictures painted for mainstream audiences, forget charm, forget romance...OZ doesn't mess around. The first episode I ever saw struck me as so nasty it was surreal, I couldn't say I was ready for it, but as I watched more, I developed a taste for Oz, and got accustomed to the high levels of graphic violence. Not just violence, but injustice (crooked guards who'll be sold out for a nickel, inmates who'll kill on order and get away with it, well mannered, middle class inmates being turned into prison bitches due to their lack of street skills or prison experience) Watching Oz, you may become comfortable with what is uncomfortable viewing....thats if you can get in touch with your darker side.   \n",
       "1                                                                                                                                                                                                                                                                                                                                                                                                                                                                                                                                                                                                                                                                                                                                                                                                                                                                                                                                                                                                                                                                                                                                                                                                                                                                                                                                                                                                                                                                                                                                                                                                                                                                                                                                                                                                                                                                                                                                                                                                                                                                                                                                                                                                                                                                                                                                                                                                                                                                                                                                                                                                                                                                 A wonderful little production. <br /><br />The filming technique is very unassuming- very old-time-BBC fashion and gives a comforting, and sometimes discomforting, sense of realism to the entire piece. <br /><br />The actors are extremely well chosen- Michael Sheen not only \"has got all the polari\" but he has all the voices down pat too! You can truly see the seamless editing guided by the references to Williams' diary entries, not only is it well worth the watching but it is a terrificly written and performed piece. A masterful production about one of the great master's of comedy and his life. <br /><br />The realism really comes home with the little things: the fantasy of the guard which, rather than use the traditional 'dream' techniques remains solid then disappears. It plays on our knowledge and our senses, particularly with the scenes concerning Orton and Halliwell and the sets (particularly of their flat with Halliwell's murals decorating every surface) are terribly well done.   \n",
       "2                                                                                                                                                                                                                                                                                                                                                                                                                                                                                                                                                                                                                                                                                                                                                                                                                                                                                                                                                                                                                                                                                                                                                                                                                                                                                                                                                                                                                                                                                                                                                                                                                                                                                                                                                                                                                                                                                                                                                                                                                                                                                                                                                                                                                                                                                                                                                                                                                                                                                                                                                                                                                                                                                                                                         I thought this was a wonderful way to spend time on a too hot summer weekend, sitting in the air conditioned theater and watching a light-hearted comedy. The plot is simplistic, but the dialogue is witty and the characters are likable (even the well bread suspected serial killer). While some may be disappointed when they realize this is not Match Point 2: Risk Addiction, I thought it was proof that Woody Allen is still fully in control of the style many of us have grown to love.<br /><br />This was the most I'd laughed at one of Woody's comedies in years (dare I say a decade?). While I've never been impressed with Scarlet Johanson, in this she managed to tone down her \"sexy\" image and jumped right into a average, but spirited young woman.<br /><br />This may not be the crown jewel of his career, but it was wittier than \"Devil Wears Prada\" and more interesting than \"Superman\" a great comedy to go see with friends.   \n",
       "3                                                                                                                                                                                                                                                                                                                                                                                                                                                                                                                                                                                                                                                                                                                                                                                                                                                                                                                                                                                                                                                                                                                                                                                                                                                                                                                                                                                                                                                                                                                                                                                                                                                                                                                                                                                                                                                                                                                                                                                                                                                                                                                                                                                                                                                                                                                                                                                                                                                                                                                                                                                                                                                                                                                                                                                                                                                                                                                           Basically there's a family where a little boy (Jake) thinks there's a zombie in his closet & his parents are fighting all the time.<br /><br />This movie is slower than a soap opera... and suddenly, Jake decides to become Rambo and kill the zombie.<br /><br />OK, first of all when you're going to make a film you must Decide if its a thriller or a drama! As a drama the movie is watchable. Parents are divorcing & arguing like in real life. And then we have Jake with his closet which totally ruins all the film! I expected to see a BOOGEYMAN similar movie, and instead i watched a drama with some meaningless thriller spots.<br /><br />3 out of 10 just for the well playing parents & descent dialogs. As for the shots with Jake: just ignore them.   \n",
       "4                                                                                                                                                                                                                                                                                                                                                                                                                                                                                                                                                                                                                                                                                                                                                                                                                                                                                                                                                                                                                                                                                                                                                                                                                                                                                                                                                                                                                                                                                                                                                                                                                                                                                                                                                                                                                                                                                                                                                                                                                                                                                                                                                                                                                                                                                                                                  Petter Mattei's \"Love in the Time of Money\" is a visually stunning film to watch. Mr. Mattei offers us a vivid portrait about human relations. This is a movie that seems to be telling us what money, power and success do to people in the different situations we encounter. <br /><br />This being a variation on the Arthur Schnitzler's play about the same theme, the director transfers the action to the present time New York where all these different characters meet and connect. Each one is connected in one way, or another to the next person, but no one seems to know the previous point of contact. Stylishly, the film has a sophisticated luxurious look. We are taken to see how these people live and the world they live in their own habitat.<br /><br />The only thing one gets out of all these souls in the picture is the different stages of loneliness each one inhabits. A big city is not exactly the best place in which human relations find sincere fulfillment, as one discerns is the case with most of the people we encounter.<br /><br />The acting is good under Mr. Mattei's direction. Steve Buscemi, Rosario Dawson, Carol Kane, Michael Imperioli, Adrian Grenier, and the rest of the talented cast, make these characters come alive.<br /><br />We wish Mr. Mattei good luck and await anxiously for his next work.   \n",
       "..                                                                                                                                                                                                                                                                                                                                                                                                                                                                                                                                                                                                                                                                                                                                                                                                                                                                                                                                                                                                                                                                                                                                                                                                                                                                                                                                                                                                                                                                                                                                                                                                                                                                                                                                                                                                                                                                                                                                                                                                                                                                                                                                                                                                                                                                                                                                                                                                                                                                                                                                                                                                                                                                                                                                                                                                                                                                                                                                                                                                                                                                                                                                                                                                                                                                                                                                                                                                                                                                                                                                                                                                                                                                                                   ...   \n",
       "995                                                                                                                                                                                                                                                                                                                                                                                                                                                                                                                                                                                                                                                                                                                                                                                                                                                                                                                                                                                                                                                                                                                                                                                                                                                                                                                                                                                                                                                                                                                                                                                                                                                                                                                                                                                                                                                                                                                                                                                                                                                                                                                                                                                                                                                                                                                                                                                                                                                                           Nothing is sacred. Just ask Ernie Fosselius. These days, everybody has a video camera, and a movie is hardly out before the spoofs start flying, quickly written and shot, and often posted directly to the internet. Spoofs are hot these days, and we go out of our way to make sure filmmakers don't get off on their own self-importance. 25 years ago, when the first Star Wars was made, it was a different world. Filmmaking was the playground of a select few and spoofs were very rare. Then God gave us Hardware Wars. It was shot to look cheap (or was it just cheap?) and the audio was obviously recorded after the fact. Does that take away from the experience? HECK NO! That's what makes it so great! It was raw and unpolished, and hit relentlessly on some of the more pretentious moments of the original movie. From Fluke Starbucker waving around a flashlight instead of a lightsaber (I did that when I was young!) to Chewchilla the Wookie Monster, to Auggie Ben Doggie's \"nah, just a little headache\" remark, this film short is as much a part of the phenomenon as any of the actual Star Wars films. Rent it. Buy it. Borrow it from a friend. And may the Farce be with you. Always.   \n",
       "996                                                                                                                                                                                                                                                                                                                                                                                                                                                                                                                                                                                                                                                                                                                                                                                                                                                                                                                                                                                                                                                                                                                                                                                                                                                                                                                                                                                                                                                                                                                                                                                                                                                                                                                                                                                                                                                                                                                                                                                                                                                                                                                                                                                                                                                                                                                                                                                                                                                                                                                                                                                                                                                                                                                                                                                                                                                                                                                                                                                                                                                                                                                                                                                                                                                                     I hated it. I hate self-aware pretentious inanity that masquerades as art. This film is either stupidly inane or inanely stupid. After the first half hour, I fastfowarded through the DVD version, and saw the same juvenile shennanigans over and over and over. I became angered that I had spent hard-earned money for sophomoric clap-trap. Tinting drivel in sepia or blue does not make something a movie, let alone art.   \n",
       "997                                                                                                                                                                                                                                                                                                                                                                                                                                                                                                                                                                                                                                                                                                                                                                                                                                                                                                                                                                                                                                                                                                                                                                                                                                                                                                                                                                                                                                                                                                                                                                                                                                                                                                                                                                                                                                                                                                                                            I usually try to be professional and constructive when I criticize movies, but my GOD!!! This was THE worst movie I have ever seen. Bad acting, bad effects, bad script, bad everything! <br /><br />The plot follows a group of teen cliche's on their way to a rave (that takes place in broad daylight) at a remote island. However, when the group arrives, all they find is an empty dance floor and bloody clothes. Determined to find out what happened to the rest of the party-goers, the clan set's off on a mission through a zombie-infested forest. During this crusade, they are aided by a police chick and a sea captain that just happens to have the right number of weapons to give to each of the kids. They also meet up with Jonathan Cherry and some other survivors. Basically the rest of the movie is a collection of poorly directed action sequences including a far too long shootout outside of the \"house of the dead.\" This fight came complete with cheesy Hollywood violence, redundant clips from the HOTD video game, and sloppy matrix-esque camera rotations. One of the character's even volunteers to sacrifice himself to save the others. Why? Not because he was noble and brave, but because part of his face got scarred by acid a zombie spat on him after he continued to beat the creature long after it had been disabled! I'm supposed to feel sorry for this guy?!?<br /><br />To sum it all up, there is absolutely no point in seeing this movie unless you want to see for yourself just how terrible it is. The theater I was in was more dead than the zombies on the screen, and I'm sure the money I wasted seeing this piece of sh*t could easily cover the costs it took to make it. GRADE: F   \n",
       "998                                                                                                                                                                                                                                                                                                                                                                                                                                                                                                                                                                                                                                                                                                                                                                                                                                                                                                                                                                                                                                                                                                                                                                                                                                                                                                                                                                                                                                                                                                                                                                                                                                                                                                                                                                                                                                                                                                                                                                                                                                                                                                                                                                                                                                                                                                                                                                                                                                                                           If you like me is going to see this in a film history class or something like that at your school, try to convince your teacher to see something else. believe me, anything is better than this movie. it is slow paced, confusing, boring, poorly constructed, gory, gringy, do I need to go on? It's message is good, but I have seen them been handled better in several other films. The acting isn't even any good. This movie is just even more awkward, as it start off as being funny (not intensional though)because of it's surreal story, than at the end, just becomes uncomfortable to watch.<br /><br />I honestly feel like 1 hour and 40 minutes of my life has been robbed. Why would anyone want to watch a girls describe a threesome for 10 minutes, than watch them drive through a traffic jam for 20 minutes, listen to a hippie who can make sheep appear, witness a sort of rape, than see the female lead role eat her husband.<br /><br />Honestly this movie deserves nothing but a 1/10. And if your not happy with my preview,seriously I'm an open minded guy and I like movies that protest through symbolism, but this movie was just awful. make any excuse you can, to avoid this film.   \n",
       "999  This is like a zoology textbook, given that its depiction of animals is so accurate. However, here are a few details that appear to have been slightly modified during the transition to film:<br /><br />- Handgun bullets never hit giant Komodo dragons. It doesn't matter how many times you shoot at the Komodo, bullets just won't go near it.<br /><br />- The best way to avoid being eaten by a giant Cobra, or a giant Komodo dragon, is just to stand there. The exception to this rule is if you've been told to stay very still, in which case you should run off, until the Komodo is right next to you, and then you should stand there, expecting defeat.<br /><br />- Minutes of choppy slow motion footage behind the credits really makes for enjoyable watching.<br /><br />- $5,000 is a memory enhancement tool, and an ample substitute for losing your boating license/getting arrested.<br /><br />- Members of elite army units don't see giant Komodo dragons coming until they are within one metre of the over-sized beings. Maybe the computer-generated nature of these dragons has something to do with it.<br /><br />- When filming a news story aiming on exposing illegal animal testing, a reporter and a cameraman with one camera is all the gear and personnel you will need; sound gear, a second camera, microphones etc are all superfluous.<br /><br />- When you hear a loud animal scream, and one person has a gun, he should take it out and point it at the nearest person.<br /><br />- When you take a gun out, the sound of the safety being taken off will be made, even if your finger is nowhere near the safety<br /><br />- Reporters agree to go half-way around the world in order to expose something - without having the faintest idea what they're exposing. Background research and vague knowledge are out of fashion in modern journalism.<br /><br />- Handguns hold at least 52 bullets in one clip, and then more than that in the next clip. Despite that, those with guns claim that they will need more ammo.<br /><br />- Expensive cameras (also, remember that the reporter only has one camera) are regularly left behind without even a moment's hesitation or regret. These cameras amazingly manage to make their way back to the reporter all by themselves.<br /><br />- The blonde girl really is the stupid one.<br /><br />- The same girl that says not to go into a house because a Komodo dragon can easily run right through it, thus making it unsafe, takes a team into a building made of the same material for protection - and nobody says a word about it.<br /><br />- High-tech facilities look like simple offices with high school chemistry sets.<br /><br />- Genetically-modified snakes grow from normal size to 100 feet long in a matter of a day, but don't grow at all in the weeks either side.<br /><br />- The military routinely destroys entire islands when people don't meet contact deadlines.<br /><br />- Men with guns don't necessarily change the direction they're shooting when their target is no longer right in front of them. Instead, they just keep shooting into the air.<br /><br />- The better looking you are, the greater your chance of surviving giant creatures.<br /><br />- Women's intuition is reliable enough to change even the most stubborn of minds.<br /><br />- Any time you're being hunted by giant creatures is a great time to hit on girls half your age.<br /><br />- Animal noises are an appropriate masking noise for 'swearing' at the same volume.<br /><br />- Old Israeli and Russian planes are regularly used by the US Military.   \n",
       "\n",
       "     sentiment  \n",
       "0            1  \n",
       "1            1  \n",
       "2            1  \n",
       "3            0  \n",
       "4            1  \n",
       "..         ...  \n",
       "995          1  \n",
       "996          0  \n",
       "997          0  \n",
       "998          0  \n",
       "999          0  \n",
       "\n",
       "[1000 rows x 2 columns]"
      ]
     },
     "execution_count": 5,
     "metadata": {},
     "output_type": "execute_result"
    }
   ],
   "source": [
    "pd.set_option('display.max_colwidth', None) #show me everything in the column, even if it's long!\n",
    "df #Show me the first and last few examples"
   ]
  },
  {
   "cell_type": "markdown",
   "metadata": {},
   "source": [
    "Let's do something super simple to transform this into a dataset that we can send to a neural network. \n",
    "\n",
    "Similarly to the sentiment classification we discussed in lecture last week, we're going to represent each example (review) as a vector of word counts.\n",
    "\n",
    "The CountVectorizer object from sklearn allows us to make these word count vectors pretty easily. Once we do the counts, we'll store these in a new dataframe.\n",
    "\n",
    "\n",
    "The following code transforms a review dataframe to a word count dataframe called wordcounts."
   ]
  },
  {
   "cell_type": "code",
   "execution_count": 7,
   "metadata": {},
   "outputs": [],
   "source": [
    "# Transform a dataframe containing a column named \"review\" \n",
    "# such that each row becomes represented by a set of word counts, corresponding to the number of each term in the review\n",
    "\n",
    "#These next two lines perform word counting:\n",
    "vectorizer = CountVectorizer(stop_words='english', min_df=0.01)\n",
    "#stop_words='english' removes very common english words that are unlikely to be useful (e.g. \"and\", \"the\")\n",
    "#min_df=0.1 removes very rare words that are likely to be typos, uninformative, etc.\n",
    "# You can type ?CountVectorizer in its own cell to read its documentation\n",
    "#***Note that \"df['review']\" is used below because \"review\" is the name of the column containing our text in the dataframe\n",
    "#If you apply this to your own data, you may probably need to change this column name!\n",
    "matrix = vectorizer.fit_transform(df['review'])\n",
    "    \n",
    "#This line converts matrix into another dataframe, with column names corresponding to the word being counted\n",
    "data = pd.DataFrame(matrix.toarray(), columns=vectorizer.get_feature_names_out())\n",
    "\n"
   ]
  },
  {
   "cell_type": "markdown",
   "metadata": {},
   "source": [
    "Take a look at the data:"
   ]
  },
  {
   "cell_type": "code",
   "execution_count": 8,
   "metadata": {
    "scrolled": false
   },
   "outputs": [
    {
     "data": {
      "text/html": [
       "<div>\n",
       "<style scoped>\n",
       "    .dataframe tbody tr th:only-of-type {\n",
       "        vertical-align: middle;\n",
       "    }\n",
       "\n",
       "    .dataframe tbody tr th {\n",
       "        vertical-align: top;\n",
       "    }\n",
       "\n",
       "    .dataframe thead th {\n",
       "        text-align: right;\n",
       "    }\n",
       "</style>\n",
       "<table border=\"1\" class=\"dataframe\">\n",
       "  <thead>\n",
       "    <tr style=\"text-align: right;\">\n",
       "      <th></th>\n",
       "      <th>000</th>\n",
       "      <th>10</th>\n",
       "      <th>100</th>\n",
       "      <th>12</th>\n",
       "      <th>13</th>\n",
       "      <th>15</th>\n",
       "      <th>20</th>\n",
       "      <th>25</th>\n",
       "      <th>30</th>\n",
       "      <th>50</th>\n",
       "      <th>...</th>\n",
       "      <th>year</th>\n",
       "      <th>years</th>\n",
       "      <th>yes</th>\n",
       "      <th>york</th>\n",
       "      <th>young</th>\n",
       "      <th>younger</th>\n",
       "      <th>youth</th>\n",
       "      <th>zero</th>\n",
       "      <th>zombie</th>\n",
       "      <th>zombies</th>\n",
       "    </tr>\n",
       "  </thead>\n",
       "  <tbody>\n",
       "    <tr>\n",
       "      <th>0</th>\n",
       "      <td>0</td>\n",
       "      <td>0</td>\n",
       "      <td>0</td>\n",
       "      <td>0</td>\n",
       "      <td>0</td>\n",
       "      <td>0</td>\n",
       "      <td>0</td>\n",
       "      <td>0</td>\n",
       "      <td>0</td>\n",
       "      <td>0</td>\n",
       "      <td>...</td>\n",
       "      <td>0</td>\n",
       "      <td>0</td>\n",
       "      <td>0</td>\n",
       "      <td>0</td>\n",
       "      <td>0</td>\n",
       "      <td>0</td>\n",
       "      <td>0</td>\n",
       "      <td>0</td>\n",
       "      <td>0</td>\n",
       "      <td>0</td>\n",
       "    </tr>\n",
       "    <tr>\n",
       "      <th>1</th>\n",
       "      <td>0</td>\n",
       "      <td>0</td>\n",
       "      <td>0</td>\n",
       "      <td>0</td>\n",
       "      <td>0</td>\n",
       "      <td>0</td>\n",
       "      <td>0</td>\n",
       "      <td>0</td>\n",
       "      <td>0</td>\n",
       "      <td>0</td>\n",
       "      <td>...</td>\n",
       "      <td>0</td>\n",
       "      <td>0</td>\n",
       "      <td>0</td>\n",
       "      <td>0</td>\n",
       "      <td>0</td>\n",
       "      <td>0</td>\n",
       "      <td>0</td>\n",
       "      <td>0</td>\n",
       "      <td>0</td>\n",
       "      <td>0</td>\n",
       "    </tr>\n",
       "    <tr>\n",
       "      <th>2</th>\n",
       "      <td>0</td>\n",
       "      <td>0</td>\n",
       "      <td>0</td>\n",
       "      <td>0</td>\n",
       "      <td>0</td>\n",
       "      <td>0</td>\n",
       "      <td>0</td>\n",
       "      <td>0</td>\n",
       "      <td>0</td>\n",
       "      <td>0</td>\n",
       "      <td>...</td>\n",
       "      <td>0</td>\n",
       "      <td>1</td>\n",
       "      <td>0</td>\n",
       "      <td>0</td>\n",
       "      <td>1</td>\n",
       "      <td>0</td>\n",
       "      <td>0</td>\n",
       "      <td>0</td>\n",
       "      <td>0</td>\n",
       "      <td>0</td>\n",
       "    </tr>\n",
       "    <tr>\n",
       "      <th>3</th>\n",
       "      <td>0</td>\n",
       "      <td>1</td>\n",
       "      <td>0</td>\n",
       "      <td>0</td>\n",
       "      <td>0</td>\n",
       "      <td>0</td>\n",
       "      <td>0</td>\n",
       "      <td>0</td>\n",
       "      <td>0</td>\n",
       "      <td>0</td>\n",
       "      <td>...</td>\n",
       "      <td>0</td>\n",
       "      <td>0</td>\n",
       "      <td>0</td>\n",
       "      <td>0</td>\n",
       "      <td>0</td>\n",
       "      <td>0</td>\n",
       "      <td>0</td>\n",
       "      <td>0</td>\n",
       "      <td>2</td>\n",
       "      <td>0</td>\n",
       "    </tr>\n",
       "    <tr>\n",
       "      <th>4</th>\n",
       "      <td>0</td>\n",
       "      <td>0</td>\n",
       "      <td>0</td>\n",
       "      <td>0</td>\n",
       "      <td>0</td>\n",
       "      <td>0</td>\n",
       "      <td>0</td>\n",
       "      <td>0</td>\n",
       "      <td>0</td>\n",
       "      <td>0</td>\n",
       "      <td>...</td>\n",
       "      <td>0</td>\n",
       "      <td>0</td>\n",
       "      <td>0</td>\n",
       "      <td>1</td>\n",
       "      <td>0</td>\n",
       "      <td>0</td>\n",
       "      <td>0</td>\n",
       "      <td>0</td>\n",
       "      <td>0</td>\n",
       "      <td>0</td>\n",
       "    </tr>\n",
       "    <tr>\n",
       "      <th>...</th>\n",
       "      <td>...</td>\n",
       "      <td>...</td>\n",
       "      <td>...</td>\n",
       "      <td>...</td>\n",
       "      <td>...</td>\n",
       "      <td>...</td>\n",
       "      <td>...</td>\n",
       "      <td>...</td>\n",
       "      <td>...</td>\n",
       "      <td>...</td>\n",
       "      <td>...</td>\n",
       "      <td>...</td>\n",
       "      <td>...</td>\n",
       "      <td>...</td>\n",
       "      <td>...</td>\n",
       "      <td>...</td>\n",
       "      <td>...</td>\n",
       "      <td>...</td>\n",
       "      <td>...</td>\n",
       "      <td>...</td>\n",
       "      <td>...</td>\n",
       "    </tr>\n",
       "    <tr>\n",
       "      <th>995</th>\n",
       "      <td>0</td>\n",
       "      <td>0</td>\n",
       "      <td>0</td>\n",
       "      <td>0</td>\n",
       "      <td>0</td>\n",
       "      <td>0</td>\n",
       "      <td>0</td>\n",
       "      <td>1</td>\n",
       "      <td>0</td>\n",
       "      <td>0</td>\n",
       "      <td>...</td>\n",
       "      <td>0</td>\n",
       "      <td>1</td>\n",
       "      <td>0</td>\n",
       "      <td>0</td>\n",
       "      <td>1</td>\n",
       "      <td>0</td>\n",
       "      <td>0</td>\n",
       "      <td>0</td>\n",
       "      <td>0</td>\n",
       "      <td>0</td>\n",
       "    </tr>\n",
       "    <tr>\n",
       "      <th>996</th>\n",
       "      <td>0</td>\n",
       "      <td>0</td>\n",
       "      <td>0</td>\n",
       "      <td>0</td>\n",
       "      <td>0</td>\n",
       "      <td>0</td>\n",
       "      <td>0</td>\n",
       "      <td>0</td>\n",
       "      <td>0</td>\n",
       "      <td>0</td>\n",
       "      <td>...</td>\n",
       "      <td>0</td>\n",
       "      <td>0</td>\n",
       "      <td>0</td>\n",
       "      <td>0</td>\n",
       "      <td>0</td>\n",
       "      <td>0</td>\n",
       "      <td>0</td>\n",
       "      <td>0</td>\n",
       "      <td>0</td>\n",
       "      <td>0</td>\n",
       "    </tr>\n",
       "    <tr>\n",
       "      <th>997</th>\n",
       "      <td>0</td>\n",
       "      <td>0</td>\n",
       "      <td>0</td>\n",
       "      <td>0</td>\n",
       "      <td>0</td>\n",
       "      <td>0</td>\n",
       "      <td>0</td>\n",
       "      <td>0</td>\n",
       "      <td>0</td>\n",
       "      <td>0</td>\n",
       "      <td>...</td>\n",
       "      <td>0</td>\n",
       "      <td>0</td>\n",
       "      <td>0</td>\n",
       "      <td>0</td>\n",
       "      <td>0</td>\n",
       "      <td>0</td>\n",
       "      <td>0</td>\n",
       "      <td>0</td>\n",
       "      <td>2</td>\n",
       "      <td>1</td>\n",
       "    </tr>\n",
       "    <tr>\n",
       "      <th>998</th>\n",
       "      <td>0</td>\n",
       "      <td>2</td>\n",
       "      <td>0</td>\n",
       "      <td>0</td>\n",
       "      <td>0</td>\n",
       "      <td>0</td>\n",
       "      <td>1</td>\n",
       "      <td>0</td>\n",
       "      <td>0</td>\n",
       "      <td>0</td>\n",
       "      <td>...</td>\n",
       "      <td>0</td>\n",
       "      <td>0</td>\n",
       "      <td>0</td>\n",
       "      <td>0</td>\n",
       "      <td>0</td>\n",
       "      <td>0</td>\n",
       "      <td>0</td>\n",
       "      <td>0</td>\n",
       "      <td>0</td>\n",
       "      <td>0</td>\n",
       "    </tr>\n",
       "    <tr>\n",
       "      <th>999</th>\n",
       "      <td>1</td>\n",
       "      <td>0</td>\n",
       "      <td>1</td>\n",
       "      <td>0</td>\n",
       "      <td>0</td>\n",
       "      <td>0</td>\n",
       "      <td>0</td>\n",
       "      <td>0</td>\n",
       "      <td>0</td>\n",
       "      <td>0</td>\n",
       "      <td>...</td>\n",
       "      <td>0</td>\n",
       "      <td>0</td>\n",
       "      <td>0</td>\n",
       "      <td>0</td>\n",
       "      <td>0</td>\n",
       "      <td>0</td>\n",
       "      <td>0</td>\n",
       "      <td>0</td>\n",
       "      <td>0</td>\n",
       "      <td>0</td>\n",
       "    </tr>\n",
       "  </tbody>\n",
       "</table>\n",
       "<p>1000 rows × 1673 columns</p>\n",
       "</div>"
      ],
      "text/plain": [
       "     000  10  100  12  13  15  20  25  30  50  ...  year  years  yes  york  \\\n",
       "0      0   0    0   0   0   0   0   0   0   0  ...     0      0    0     0   \n",
       "1      0   0    0   0   0   0   0   0   0   0  ...     0      0    0     0   \n",
       "2      0   0    0   0   0   0   0   0   0   0  ...     0      1    0     0   \n",
       "3      0   1    0   0   0   0   0   0   0   0  ...     0      0    0     0   \n",
       "4      0   0    0   0   0   0   0   0   0   0  ...     0      0    0     1   \n",
       "..   ...  ..  ...  ..  ..  ..  ..  ..  ..  ..  ...   ...    ...  ...   ...   \n",
       "995    0   0    0   0   0   0   0   1   0   0  ...     0      1    0     0   \n",
       "996    0   0    0   0   0   0   0   0   0   0  ...     0      0    0     0   \n",
       "997    0   0    0   0   0   0   0   0   0   0  ...     0      0    0     0   \n",
       "998    0   2    0   0   0   0   1   0   0   0  ...     0      0    0     0   \n",
       "999    1   0    1   0   0   0   0   0   0   0  ...     0      0    0     0   \n",
       "\n",
       "     young  younger  youth  zero  zombie  zombies  \n",
       "0        0        0      0     0       0        0  \n",
       "1        0        0      0     0       0        0  \n",
       "2        1        0      0     0       0        0  \n",
       "3        0        0      0     0       2        0  \n",
       "4        0        0      0     0       0        0  \n",
       "..     ...      ...    ...   ...     ...      ...  \n",
       "995      1        0      0     0       0        0  \n",
       "996      0        0      0     0       0        0  \n",
       "997      0        0      0     0       2        1  \n",
       "998      0        0      0     0       0        0  \n",
       "999      0        0      0     0       0        0  \n",
       "\n",
       "[1000 rows x 1673 columns]"
      ]
     },
     "execution_count": 8,
     "metadata": {},
     "output_type": "execute_result"
    }
   ],
   "source": [
    "data #prints data to screen"
   ]
  },
  {
   "cell_type": "markdown",
   "metadata": {},
   "source": [
    "Note that you can examine this dataset, e.g. to look at the column of counts for the word \"wonderful\":"
   ]
  },
  {
   "cell_type": "code",
   "execution_count": 21,
   "metadata": {
    "scrolled": true
   },
   "outputs": [
    {
     "data": {
      "text/plain": [
       "0      0\n",
       "1      1\n",
       "2      1\n",
       "3      0\n",
       "4      0\n",
       "      ..\n",
       "995    0\n",
       "996    0\n",
       "997    0\n",
       "998    0\n",
       "999    0\n",
       "Name: wonderful, Length: 1000, dtype: int64"
      ]
     },
     "execution_count": 21,
     "metadata": {},
     "output_type": "execute_result"
    }
   ],
   "source": [
    "data[\"wonderful\"]"
   ]
  },
  {
   "cell_type": "code",
   "execution_count": 22,
   "metadata": {},
   "outputs": [
    {
     "data": {
      "text/plain": [
       "0      0\n",
       "1      0\n",
       "2      0\n",
       "3      0\n",
       "4      0\n",
       "      ..\n",
       "995    0\n",
       "996    1\n",
       "997    0\n",
       "998    0\n",
       "999    0\n",
       "Name: hate, Length: 1000, dtype: int64"
      ]
     },
     "execution_count": 22,
     "metadata": {},
     "output_type": "execute_result"
    }
   ],
   "source": [
    "#or the word hate:\n",
    "data[\"hate\"]"
   ]
  },
  {
   "cell_type": "markdown",
   "metadata": {},
   "source": [
    "## Let's do some machine learning!"
   ]
  },
  {
   "cell_type": "code",
   "execution_count": 9,
   "metadata": {},
   "outputs": [],
   "source": [
    "#First, let's split our dataset into training and test sets\n",
    "# Remember: X is for input, y is for output\n",
    "# The first argument of train_test_split is your training data (here, lives in \"data\" object you created using word counts)\n",
    "# The second argument of train_test_split is your labels/targets for the training data. This lives in the \"sentiment\" column of the original dataframe df we loaded from the file.\n",
    "# (***If you are using a different dataset, you'll need to change the name of this column to whatever it is in your dataset)\n",
    "# The test_size argument specifies % of data going into test set: here, 20% of the data goes into test set and 80% goes into training set\n",
    "X_train, X_test, y_train, y_test = train_test_split(data, df['sentiment'], test_size=0.2, random_state=0)\n",
    "\n"
   ]
  },
  {
   "cell_type": "code",
   "execution_count": 24,
   "metadata": {},
   "outputs": [],
   "source": [
    "#If you ever want to learn more about a function, you can always use ? \n",
    "?train_test_split"
   ]
  },
  {
   "cell_type": "code",
   "execution_count": 10,
   "metadata": {
    "id": "ykvGqf40eOtu",
    "scrolled": true
   },
   "outputs": [
    {
     "data": {
      "text/plain": [
       "(800, 1673)"
      ]
     },
     "execution_count": 10,
     "metadata": {},
     "output_type": "execute_result"
    }
   ],
   "source": [
    "# We can examine it a bit using np.shape:\n",
    "np.shape(X_train) #What does our training data look like? It's 800 rows, with 1674 dimensions of input (features)"
   ]
  },
  {
   "cell_type": "code",
   "execution_count": null,
   "metadata": {},
   "outputs": [],
   "source": []
  },
  {
   "cell_type": "code",
   "execution_count": null,
   "metadata": {},
   "outputs": [],
   "source": []
  },
  {
   "cell_type": "code",
   "execution_count": 26,
   "metadata": {
    "id": "hiLtJgDYeOtu"
   },
   "outputs": [],
   "source": [
    "#Now let's make a simple neural network with 1 hidden layer containing 10 neurons\n",
    "num_neurons = 10 # neurons in each layer\n",
    "model = Sequential()\n",
    "\n",
    "#Make the first (hidden) layer, which will have num_neurons neurons. Each neuron will get inputs from all columns of the dataframe, except sentiment\n",
    "#model.add(Dense(num_neurons, input_dim=len(data.columns)-1))\n",
    "model.add(Dense(num_neurons, input_dim=np.shape(X_train)[1]))\n",
    "model.add(Activation('sigmoid')) #Now we'll use a sigmoid activation function\n",
    "\n",
    "model.add(Dense(num_neurons, input_dim=10))\n",
    "model.add(Activation('sigmoid'))\n",
    "\n",
    "#Now let's add another layer for the output: A single sigmoid neuron.\n",
    "model.add(Dense(1)) \n",
    "model.add(Activation('sigmoid'))\n",
    "\n"
   ]
  },
  {
   "cell_type": "code",
   "execution_count": 27,
   "metadata": {},
   "outputs": [
    {
     "name": "stdout",
     "output_type": "stream",
     "text": [
      "Model: \"sequential_4\"\n",
      "_________________________________________________________________\n",
      " Layer (type)                Output Shape              Param #   \n",
      "=================================================================\n",
      " dense_13 (Dense)            (None, 10)                16740     \n",
      "                                                                 \n",
      " activation_13 (Activation)  (None, 10)                0         \n",
      "                                                                 \n",
      " dense_14 (Dense)            (None, 10)                110       \n",
      "                                                                 \n",
      " activation_14 (Activation)  (None, 10)                0         \n",
      "                                                                 \n",
      " dense_15 (Dense)            (None, 1)                 11        \n",
      "                                                                 \n",
      " activation_15 (Activation)  (None, 1)                 0         \n",
      "                                                                 \n",
      "=================================================================\n",
      "Total params: 16,861\n",
      "Trainable params: 16,861\n",
      "Non-trainable params: 0\n",
      "_________________________________________________________________\n"
     ]
    }
   ],
   "source": [
    "model.summary()"
   ]
  },
  {
   "cell_type": "code",
   "execution_count": 28,
   "metadata": {
    "id": "tcylQdKjeOtv"
   },
   "outputs": [],
   "source": [
    "#Use compile() to set up our training\n",
    "\n",
    "# For loss, we'll use binary cross-entropy loss, \n",
    "# which is appropriate for a binary classification problem (0/1 for negative/positive)\n",
    "# ***If you edit this notebook to apply it to a multi-class classification problem, you'll need \n",
    "#    to change the loss to something like categorical_crossentropy, and you'll also need to change the\n",
    "#    encoding of the class to a one hot representation (see https://machinelearningmastery.com/how-to-choose-loss-functions-when-training-deep-learning-neural-networks/)\n",
    "\n",
    "\n",
    "model.compile(optimizer='adam',\n",
    "              loss='binary_crossentropy',\n",
    "              metrics=['accuracy'])\n",
    "\n"
   ]
  },
  {
   "cell_type": "code",
   "execution_count": 29,
   "metadata": {
    "id": "5O2u0WC2eOtv",
    "scrolled": false
   },
   "outputs": [
    {
     "name": "stdout",
     "output_type": "stream",
     "text": [
      "Epoch 1/10\n",
      "23/25 [==========================>...] - ETA: 0s - loss: 0.7533 - accuracy: 0.5190"
     ]
    },
    {
     "name": "stderr",
     "output_type": "stream",
     "text": [
      "2022-05-05 21:34:05.296851: I tensorflow/core/grappler/optimizers/custom_graph_optimizer_registry.cc:113] Plugin optimizer for device_type GPU is enabled.\n"
     ]
    },
    {
     "name": "stdout",
     "output_type": "stream",
     "text": [
      "25/25 [==============================] - 0s 11ms/step - loss: 0.7504 - accuracy: 0.5200 - val_loss: 0.7780 - val_accuracy: 0.4250\n",
      "Epoch 2/10\n",
      "12/25 [=============>................] - ETA: 0s - loss: 0.7322 - accuracy: 0.4792"
     ]
    },
    {
     "name": "stderr",
     "output_type": "stream",
     "text": [
      "2022-05-05 21:34:05.552801: I tensorflow/core/grappler/optimizers/custom_graph_optimizer_registry.cc:113] Plugin optimizer for device_type GPU is enabled.\n"
     ]
    },
    {
     "name": "stdout",
     "output_type": "stream",
     "text": [
      "25/25 [==============================] - 0s 6ms/step - loss: 0.7078 - accuracy: 0.5200 - val_loss: 0.7284 - val_accuracy: 0.4250\n",
      "Epoch 3/10\n",
      "25/25 [==============================] - 0s 8ms/step - loss: 0.6863 - accuracy: 0.5200 - val_loss: 0.7066 - val_accuracy: 0.4250\n",
      "Epoch 4/10\n",
      "25/25 [==============================] - 0s 6ms/step - loss: 0.6699 - accuracy: 0.5200 - val_loss: 0.6888 - val_accuracy: 0.4250\n",
      "Epoch 5/10\n",
      "25/25 [==============================] - 0s 6ms/step - loss: 0.6482 - accuracy: 0.5763 - val_loss: 0.6710 - val_accuracy: 0.5300\n",
      "Epoch 6/10\n",
      "25/25 [==============================] - 0s 6ms/step - loss: 0.6220 - accuracy: 0.7925 - val_loss: 0.6491 - val_accuracy: 0.6550\n",
      "Epoch 7/10\n",
      "25/25 [==============================] - 0s 6ms/step - loss: 0.5899 - accuracy: 0.8625 - val_loss: 0.6282 - val_accuracy: 0.7200\n",
      "Epoch 8/10\n",
      "25/25 [==============================] - 0s 6ms/step - loss: 0.5539 - accuracy: 0.9175 - val_loss: 0.6057 - val_accuracy: 0.7650\n",
      "Epoch 9/10\n",
      "25/25 [==============================] - 0s 6ms/step - loss: 0.5138 - accuracy: 0.9287 - val_loss: 0.5846 - val_accuracy: 0.7750\n",
      "Epoch 10/10\n",
      "25/25 [==============================] - 0s 6ms/step - loss: 0.4729 - accuracy: 0.9425 - val_loss: 0.5646 - val_accuracy: 0.7650\n"
     ]
    }
   ],
   "source": [
    "#Train it!\n",
    "# Plus store history of training in a variable called \"history\"\n",
    "history = model.fit(X_train, y_train, epochs=10, validation_data=(X_test, y_test))"
   ]
  },
  {
   "cell_type": "markdown",
   "metadata": {},
   "source": [
    "Let's take a look at how training set and test set accuracy change with each epoch:"
   ]
  },
  {
   "cell_type": "code",
   "execution_count": 15,
   "metadata": {},
   "outputs": [
    {
     "data": {
      "text/plain": [
       "<matplotlib.legend.Legend at 0x298fa56d0>"
      ]
     },
     "execution_count": 15,
     "metadata": {},
     "output_type": "execute_result"
    },
    {
     "data": {
      "image/png": "[encoded data removed]",
      "text/plain": [
       "<Figure size 432x288 with 1 Axes>"
      ]
     },
     "metadata": {
      "needs_background": "light"
     },
     "output_type": "display_data"
    }
   ],
   "source": [
    "plt.plot(history.history['accuracy'], label='training set accuracy')\n",
    "plt.plot(history.history['val_accuracy'], label = 'test set accuracy')\n",
    "plt.xlabel('Epoch')\n",
    "plt.ylabel('Accuracy')\n",
    "plt.ylim([0.5, 1])\n",
    "plt.legend(loc='lower right')"
   ]
  },
  {
   "cell_type": "markdown",
   "metadata": {},
   "source": [
    "## Examining model behaviour\n",
    "\n",
    "First, let's explore how we can apply the trained model to a specific example in our test data (or training data), to examine what it's done.\n",
    "\n",
    "We'll use the following code techniques:\n",
    "* We can apply the trained model to any example using the `.predict()` function\n",
    "* We can get the nth row from any dataframe using the `.iloc[[n]]` function"
   ]
  },
  {
   "cell_type": "code",
   "execution_count": 33,
   "metadata": {},
   "outputs": [
    {
     "data": {
      "text/plain": [
       "array([[0.35659155]], dtype=float32)"
      ]
     },
     "execution_count": 33,
     "metadata": {},
     "output_type": "execute_result"
    }
   ],
   "source": [
    "#For instance, let's make z the first test example:\n",
    "z = X_test.iloc[[0]]\n",
    "\n",
    "#and let's output the prediction for this example:\n",
    "model.predict(z)"
   ]
  },
  {
   "cell_type": "markdown",
   "metadata": {},
   "source": [
    "Note that this prediction will be somewhere between 0 and 1. This can be interpreted loosely as confidence: closer to 1 is more confident it is positive sentiment, closer to 0 is more confident it is negative sentiment.\n",
    "\n",
    "Let's compare this to the actual sentiment of the review, as stored in y_test:"
   ]
  },
  {
   "cell_type": "code",
   "execution_count": 31,
   "metadata": {},
   "outputs": [
    {
     "data": {
      "text/plain": [
       "993    0\n",
       "Name: sentiment, dtype: int64"
      ]
     },
     "execution_count": 31,
     "metadata": {},
     "output_type": "execute_result"
    }
   ],
   "source": [
    "y_test.iloc[[0]]"
   ]
  },
  {
   "cell_type": "markdown",
   "metadata": {},
   "source": [
    "To make sense of this, we probably also want to look at the actual text review, which doesn't live in X_test but does live in the original dataframe we loaded from the CSV file, i.e. `df`. Since our `train_test_split` function has randomised the order of the data before splitting into training and testing sets, we need to get the id (row number) for `df` corresponding to this first test example."
   ]
  },
  {
   "cell_type": "code",
   "execution_count": 32,
   "metadata": {},
   "outputs": [
    {
     "data": {
      "text/plain": [
       "993    Tim Robbins and John Cusack are two actors I have appreciated throughout their careers, and that was the only reason for choosing to watch this movie. Well, all I can say is I totally regretted it! These two great actors humiliate themselves all the way through by performing a number of irrelevant, unimaginative and kitch to the extreme (not that this is bad on its own)sketches that are supposed to make people laugh, but fail to do so. The only reason I can think is that the director was their friend, and they decided to support his movie by starring in it-I can't think of anything else because this movie is SO cheap! Fortunately Tim Robbins and John Cusack haven't disappointed me ever since. I would recommend you to avoid this film, unless you want your opinion about the two actors spoiled.\n",
       "Name: review, dtype: object"
      ]
     },
     "execution_count": 32,
     "metadata": {},
     "output_type": "execute_result"
    }
   ],
   "source": [
    "test_ids = list(X_test.index) #gets the original indices in the df dataframe\n",
    "#test_ids[n] now refers to the id number of the nth test example\n",
    "originalReview = df.iloc[[test_ids[0]]].review\n",
    "originalReview"
   ]
  },
  {
   "cell_type": "markdown",
   "metadata": {},
   "source": [
    "Try this with a few more examples and see what you find. If you're comfortable with python, can you think of a way to identify misclassified test examples and just print out those? Or, even better, find test examples that are confidently classified correctly, or test examples that are \"confidently\" misclassified, and examine those?"
   ]
  },
  {
   "cell_type": "code",
   "execution_count": null,
   "metadata": {},
   "outputs": [],
   "source": []
  },
  {
   "cell_type": "markdown",
   "metadata": {},
   "source": [
    "For more fun, how about testing this classifier on our own new, fake \"reviews\"? Here's code to create an example of your own and apply the classifier to it. We'll have to first convert a string of text to a vector of word counts and put it in a dataframe, so here's a function for that:"
   ]
  },
  {
   "cell_type": "code",
   "execution_count": null,
   "metadata": {},
   "outputs": [],
   "source": [
    "# Turns a text string into a dataframe example (***Note you'll need to change this from 'review' for your own dataset)\n",
    "def createExample(myText):\n",
    "\n",
    "    newExample = np.array([[myText]])\n",
    "    tdf = pd.DataFrame(newExample, columns=[\"review\"])\n",
    "    matrix = vectorizer.transform(tdf['review'])\n",
    "    newDf = pd.DataFrame(matrix.toarray(), columns=vectorizer.get_feature_names_out())\n",
    "    return newDf "
   ]
  },
  {
   "cell_type": "code",
   "execution_count": null,
   "metadata": {},
   "outputs": [],
   "source": [
    "#Here's a text about zombies\n",
    "myText = \"This movie is about zombies zombies zombies\"\n",
    "t = createExample(myText) #When we print the dataframe, you see zombies' word count is 3:\n",
    "t"
   ]
  },
  {
   "cell_type": "code",
   "execution_count": null,
   "metadata": {
    "scrolled": true
   },
   "outputs": [],
   "source": [
    "#apply the model to classify your new text:\n",
    "model.predict(t)"
   ]
  },
  {
   "cell_type": "markdown",
   "metadata": {},
   "source": [
    "Now try writing some \"great\" and \"terrible\" reviews and see what happens to the classification outputs:"
   ]
  },
  {
   "cell_type": "code",
   "execution_count": null,
   "metadata": {},
   "outputs": [],
   "source": [
    "model.predict(createExample(\"This movie is the worst it's terrible horrible\"))"
   ]
  },
  {
   "cell_type": "markdown",
   "metadata": {},
   "source": [
    "## Explore on your own\n",
    "\n",
    "Change the code above to explore:\n",
    "* Does changing the number of neurons in the hidden layer change the results? What happens to accuracy when you use 1 neuron? 100 neurons? \n",
    "* Try editing the neural network so that you have 2 hidden layers of 10 neurons each. What happens to accuracy? \n",
    "\n",
    "Investigating the model\n",
    "* Can you examine the model's performance on the test data to discover anything about what mistakes this model makes? Or anything about what types of reviews are easy to classify accurately?\n",
    "* Can you come up with your own, new examples of positive or negative reviews that illustrate the mistakes the model makes?"
   ]
  },
  {
   "cell_type": "code",
   "execution_count": 34,
   "metadata": {},
   "outputs": [],
   "source": [
    "# This assumes the IMDBsubset.csv file lives in a directory called \"data\" which lives in the same directory as this notebook.\n",
    "# ***if you want to edit this notebook to use a different dataset, edit this to specify a different file:\n",
    "df = pd.read_csv(\"data/Tweets.csv\").dropna()\n"
   ]
  },
  {
   "cell_type": "code",
   "execution_count": 35,
   "metadata": {},
   "outputs": [
    {
     "data": {
      "text/html": [
       "<div>\n",
       "<style scoped>\n",
       "    .dataframe tbody tr th:only-of-type {\n",
       "        vertical-align: middle;\n",
       "    }\n",
       "\n",
       "    .dataframe tbody tr th {\n",
       "        vertical-align: top;\n",
       "    }\n",
       "\n",
       "    .dataframe thead th {\n",
       "        text-align: right;\n",
       "    }\n",
       "</style>\n",
       "<table border=\"1\" class=\"dataframe\">\n",
       "  <thead>\n",
       "    <tr style=\"text-align: right;\">\n",
       "      <th></th>\n",
       "      <th>textID</th>\n",
       "      <th>text</th>\n",
       "      <th>selected_text</th>\n",
       "      <th>sentiment</th>\n",
       "    </tr>\n",
       "  </thead>\n",
       "  <tbody>\n",
       "    <tr>\n",
       "      <th>0</th>\n",
       "      <td>cb774db0d1</td>\n",
       "      <td>I`d have responded, if I were going</td>\n",
       "      <td>I`d have responded, if I were going</td>\n",
       "      <td>neutral</td>\n",
       "    </tr>\n",
       "    <tr>\n",
       "      <th>1</th>\n",
       "      <td>549e992a42</td>\n",
       "      <td>Sooo SAD I will miss you here in San Diego!!!</td>\n",
       "      <td>Sooo SAD</td>\n",
       "      <td>negative</td>\n",
       "    </tr>\n",
       "    <tr>\n",
       "      <th>2</th>\n",
       "      <td>088c60f138</td>\n",
       "      <td>my boss is bullying me...</td>\n",
       "      <td>bullying me</td>\n",
       "      <td>negative</td>\n",
       "    </tr>\n",
       "    <tr>\n",
       "      <th>3</th>\n",
       "      <td>9642c003ef</td>\n",
       "      <td>what interview! leave me alone</td>\n",
       "      <td>leave me alone</td>\n",
       "      <td>negative</td>\n",
       "    </tr>\n",
       "    <tr>\n",
       "      <th>4</th>\n",
       "      <td>358bd9e861</td>\n",
       "      <td>Sons of ****, why couldn`t they put them on the releases we already bought</td>\n",
       "      <td>Sons of ****,</td>\n",
       "      <td>negative</td>\n",
       "    </tr>\n",
       "    <tr>\n",
       "      <th>...</th>\n",
       "      <td>...</td>\n",
       "      <td>...</td>\n",
       "      <td>...</td>\n",
       "      <td>...</td>\n",
       "    </tr>\n",
       "    <tr>\n",
       "      <th>27476</th>\n",
       "      <td>4eac33d1c0</td>\n",
       "      <td>wish we could come see u on Denver  husband lost his job and can`t afford it</td>\n",
       "      <td>d lost</td>\n",
       "      <td>negative</td>\n",
       "    </tr>\n",
       "    <tr>\n",
       "      <th>27477</th>\n",
       "      <td>4f4c4fc327</td>\n",
       "      <td>I`ve wondered about rake to.  The client has made it clear .NET only, don`t force devs to learn a new lang  #agile #ccnet</td>\n",
       "      <td>, don`t force</td>\n",
       "      <td>negative</td>\n",
       "    </tr>\n",
       "    <tr>\n",
       "      <th>27478</th>\n",
       "      <td>f67aae2310</td>\n",
       "      <td>Yay good for both of you. Enjoy the break - you probably need it after such hectic weekend  Take care hun xxxx</td>\n",
       "      <td>Yay good for both of you.</td>\n",
       "      <td>positive</td>\n",
       "    </tr>\n",
       "    <tr>\n",
       "      <th>27479</th>\n",
       "      <td>ed167662a5</td>\n",
       "      <td>But it was worth it  ****.</td>\n",
       "      <td>But it was worth it  ****.</td>\n",
       "      <td>positive</td>\n",
       "    </tr>\n",
       "    <tr>\n",
       "      <th>27480</th>\n",
       "      <td>6f7127d9d7</td>\n",
       "      <td>All this flirting going on - The ATG smiles. Yay.  ((hugs))</td>\n",
       "      <td>All this flirting going on - The ATG smiles. Yay.  ((hugs)</td>\n",
       "      <td>neutral</td>\n",
       "    </tr>\n",
       "  </tbody>\n",
       "</table>\n",
       "<p>27480 rows × 4 columns</p>\n",
       "</div>"
      ],
      "text/plain": [
       "           textID  \\\n",
       "0      cb774db0d1   \n",
       "1      549e992a42   \n",
       "2      088c60f138   \n",
       "3      9642c003ef   \n",
       "4      358bd9e861   \n",
       "...           ...   \n",
       "27476  4eac33d1c0   \n",
       "27477  4f4c4fc327   \n",
       "27478  f67aae2310   \n",
       "27479  ed167662a5   \n",
       "27480  6f7127d9d7   \n",
       "\n",
       "                                                                                                                             text  \\\n",
       "0                                                                                             I`d have responded, if I were going   \n",
       "1                                                                                   Sooo SAD I will miss you here in San Diego!!!   \n",
       "2                                                                                                       my boss is bullying me...   \n",
       "3                                                                                                  what interview! leave me alone   \n",
       "4                                                      Sons of ****, why couldn`t they put them on the releases we already bought   \n",
       "...                                                                                                                           ...   \n",
       "27476                                                wish we could come see u on Denver  husband lost his job and can`t afford it   \n",
       "27477   I`ve wondered about rake to.  The client has made it clear .NET only, don`t force devs to learn a new lang  #agile #ccnet   \n",
       "27478              Yay good for both of you. Enjoy the break - you probably need it after such hectic weekend  Take care hun xxxx   \n",
       "27479                                                                                                  But it was worth it  ****.   \n",
       "27480                                                                 All this flirting going on - The ATG smiles. Yay.  ((hugs))   \n",
       "\n",
       "                                                    selected_text sentiment  \n",
       "0                             I`d have responded, if I were going   neutral  \n",
       "1                                                        Sooo SAD  negative  \n",
       "2                                                     bullying me  negative  \n",
       "3                                                  leave me alone  negative  \n",
       "4                                                   Sons of ****,  negative  \n",
       "...                                                           ...       ...  \n",
       "27476                                                      d lost  negative  \n",
       "27477                                               , don`t force  negative  \n",
       "27478                                   Yay good for both of you.  positive  \n",
       "27479                                  But it was worth it  ****.  positive  \n",
       "27480  All this flirting going on - The ATG smiles. Yay.  ((hugs)   neutral  \n",
       "\n",
       "[27480 rows x 4 columns]"
      ]
     },
     "execution_count": 35,
     "metadata": {},
     "output_type": "execute_result"
    }
   ],
   "source": [
    "pd.set_option('display.max_colwidth', None) #show me everything in the column, even if it's long!\n",
    "df #Show me the first and last few examples\n"
   ]
  },
  {
   "cell_type": "code",
   "execution_count": 93,
   "metadata": {},
   "outputs": [],
   "source": [
    "# Transform a dataframe containing a column named \"review\" \n",
    "# such that each row becomes represented by a set of word counts, corresponding to the number of each term in the review\n",
    "\n",
    "#These next two lines perform word counting:\n",
    "vectorizer = CountVectorizer(stop_words='english', min_df=0.001)\n",
    "#stop_words='english' removes very common english words that are unlikely to be useful (e.g. \"and\", \"the\")\n",
    "#min_df=0.1 removes very rare words that are likely to be typos, uninformative, etc.\n",
    "# You can type ?CountVectorizer in its own cell to read its documentation\n",
    "#***Note that \"df['review']\" is used below because \"review\" is the name of the column containing our text in the dataframe\n",
    "#If you apply this to your own data, you may probably need to change this column name!\n",
    "matrix = vectorizer.fit_transform(df['text'])\n",
    "\n",
    "#This line converts matrix into another dataframe, with column names corresponding to the word being counted\n",
    "data = pd.DataFrame(matrix.toarray(), columns=vectorizer.get_feature_names_out())\n"
   ]
  },
  {
   "cell_type": "code",
   "execution_count": 94,
   "metadata": {},
   "outputs": [
    {
     "data": {
      "text/plain": [
       "0                                                                                               I`d have responded, if I were going\n",
       "1                                                                                     Sooo SAD I will miss you here in San Diego!!!\n",
       "2                                                                                                         my boss is bullying me...\n",
       "3                                                                                                    what interview! leave me alone\n",
       "4                                                        Sons of ****, why couldn`t they put them on the releases we already bought\n",
       "                                                                    ...                                                            \n",
       "27476                                                  wish we could come see u on Denver  husband lost his job and can`t afford it\n",
       "27477     I`ve wondered about rake to.  The client has made it clear .NET only, don`t force devs to learn a new lang  #agile #ccnet\n",
       "27478                Yay good for both of you. Enjoy the break - you probably need it after such hectic weekend  Take care hun xxxx\n",
       "27479                                                                                                    But it was worth it  ****.\n",
       "27480                                                                   All this flirting going on - The ATG smiles. Yay.  ((hugs))\n",
       "Name: text, Length: 27480, dtype: object"
      ]
     },
     "execution_count": 94,
     "metadata": {},
     "output_type": "execute_result"
    }
   ],
   "source": [
    "df['text']"
   ]
  },
  {
   "cell_type": "code",
   "execution_count": 102,
   "metadata": {},
   "outputs": [
    {
     "data": {
      "text/plain": [
       "array(['10', '100', '11', '12', '14', '15', '1st', '20', '24', '25',\n",
       "       '2day', '2nd', '30', '40', '4th', '50', 'able', 'absolutely',\n",
       "       'account', 'actually', 'add', 'afternoon', 'ages', 'ago', 'agree',\n",
       "       'ah', 'ahh', 'ahhh', 'aint', 'air', 'airport', 'album', 'alot',\n",
       "       'alright', 'amazing', 'annoying', 'answer', 'anymore', 'anytime',\n",
       "       'anyways', 'app', 'apparently', 'apple', 'appreciate', 'apps',\n",
       "       'aren', 'art', 'ask', 'asleep', 'ate', 'aw', 'awake', 'away',\n",
       "       'awesome', 'awful', 'aww', 'awww', 'babe', 'baby', 'bad', 'band',\n",
       "       'bank', 'bbq', 'bday', 'beach', 'beat', 'beautiful', 'bed', 'beer',\n",
       "       'believe', 'best', 'bet', 'better', 'bgt', 'big', 'bike',\n",
       "       'birthday', 'bit', 'black', 'blackberry', 'bless', 'blip', 'blog',\n",
       "       'bloody', 'blue', 'body', 'boo', 'book', 'books', 'bored',\n",
       "       'boring', 'bought', 'bout', 'boy', 'boyfriend', 'boys', 'break',\n",
       "       'breakfast', 'bring', 'bro', 'broke', 'broken', 'brother',\n",
       "       'brothers', 'btw', 'bummed', 'bummer', 'bus', 'business', 'busy',\n",
       "       'buy', 'bye', 'cake', 'called', 'came', 'camera', 'cancelled',\n",
       "       'car', 'card', 'care', 'case', 'cat', 'catch', 'cats', 'caught',\n",
       "       'cause', 'cd', 'chance', 'change', 'changed', 'chat', 'check',\n",
       "       'checked', 'cheese', 'chicken', 'chillin', 'chocolate', 'church',\n",
       "       'city', 'class', 'classes', 'clean', 'cleaning', 'close', 'closed',\n",
       "       'clothes', 'club', 'coffee', 'cold', 'college', 'com', 'come',\n",
       "       'comes', 'coming', 'comment', 'company', 'completely', 'computer',\n",
       "       'concert', 'congrats', 'congratulations', 'cool', 'copy', 'cos',\n",
       "       'couldn', 'count', 'couple', 'course', 'cousin', 'coz', 'crazy',\n",
       "       'cream', 'crying', 'cup', 'currently', 'cut', 'cute', 'cuz', 'da',\n",
       "       'dad', 'daddy', 'dance', 'dancing', 'dang', 'dark', 'date',\n",
       "       'daughter', 'david', 'day', 'days', 'dead', 'deal', 'dear',\n",
       "       'decided', 'definitely', 'did', 'didn', 'didnt', 'die', 'died',\n",
       "       'different', 'dinner', 'disappointed', 'dm', 'does', 'doesn',\n",
       "       'doesnt', 'dog', 'dogs', 'doing', 'don', 'dont', 'door', 'dream',\n",
       "       'dreams', 'dress', 'drink', 'drinking', 'drive', 'driving',\n",
       "       'drunk', 'dude', 'dunno', 'dvd', 'earlier', 'early', 'easy', 'eat',\n",
       "       'eating', 'eh', 'em', 'email', 'end', 'ended', 'english', 'enjoy',\n",
       "       'enjoyed', 'enjoying', 'episode', 'especially', 'evening',\n",
       "       'everybody', 'exactly', 'exam', 'exams', 'excited', 'exciting',\n",
       "       'extra', 'eye', 'eyes', 'face', 'facebook', 'fact', 'fail',\n",
       "       'failed', 'fair', 'fall', 'fam', 'family', 'fan', 'fans',\n",
       "       'fantastic', 'far', 'fast', 'favorite', 'fb', 'feel', 'feelin',\n",
       "       'feeling', 'feels', 'feet', 'fell', 'felt', 'fever', 'ff',\n",
       "       'figure', 'film', 'final', 'finally', 'fine', 'fingers', 'finish',\n",
       "       'finished', 'fix', 'flight', 'flu', 'fly', 'fm', 'follow',\n",
       "       'followed', 'follower', 'followers', 'following', 'food', 'foot',\n",
       "       'forever', 'forget', 'forgot', 'forward', 'free', 'french',\n",
       "       'friday', 'friend', 'friends', 'fun', 'funny', 'game', 'games',\n",
       "       'garden', 'gave', 'gd', 'gets', 'gettin', 'getting', 'gift',\n",
       "       'girl', 'girls', 'giving', 'glad', 'god', 'goes', 'goin', 'going',\n",
       "       'gone', 'gonna', 'good', 'goodbye', 'goodnight', 'google',\n",
       "       'gorgeous', 'got', 'gotta', 'graduation', 'great', 'green',\n",
       "       'group', 'guess', 'guitar', 'gutted', 'guy', 'guys', 'gym', 'ha',\n",
       "       'haha', 'hahah', 'hahaha', 'hair', 'half', 'hand', 'hang',\n",
       "       'hanging', 'hannah', 'happen', 'happened', 'happens', 'happy',\n",
       "       'hard', 'hate', 'hates', 'haven', 'havent', 'having', 'head',\n",
       "       'headache', 'heading', 'hear', 'heard', 'heart', 'hehe', 'hell',\n",
       "       'hello', 'help', 'hey', 'hi', 'high', 'history', 'hit', 'hmm',\n",
       "       'hmmm', 'holiday', 'home', 'homework', 'hope', 'hopefully',\n",
       "       'hoping', 'horrible', 'hospital', 'hot', 'hour', 'hours', 'house',\n",
       "       'http', 'hubby', 'hug', 'huge', 'hugs', 'huh', 'hun', 'hungry',\n",
       "       'hurt', 'hurts', 'ice', 'id', 'idea', 'idk', 'ill', 'im', 'ima',\n",
       "       'imagine', 'inside', 'instead', 'interesting', 'internet',\n",
       "       'iphone', 'ipod', 'isn', 'isnt', 'itunes', 'ive', 'iï', 'jay',\n",
       "       'jealous', 'job', 'john', 'join', 'jonas', 'july', 'june', 'jus',\n",
       "       'just', 'justin', 'keeps', 'kid', 'kids', 'kill', 'kind', 'kinda',\n",
       "       'knew', 'know', 'la', 'lady', 'lame', 'laptop', 'late', 'later',\n",
       "       'laugh', 'lazy', 'learn', 'leave', 'leaving', 'left', 'legs',\n",
       "       'let', 'lets', 'life', 'like', 'liked', 'lil', 'line', 'link',\n",
       "       'list', 'listen', 'listening', 'little', 'live', 'living', 'll',\n",
       "       'lmao', 'lol', 'london', 'lonely', 'long', 'longer', 'look',\n",
       "       'looked', 'looking', 'looks', 'lost', 'lot', 'lots', 'love',\n",
       "       'loved', 'lovely', 'loves', 'loving', 'low', 'luck', 'lucky',\n",
       "       'lunch', 'luv', 'ly', 'ma', 'mac', 'mad', 'mail', 'make', 'makes',\n",
       "       'making', 'mama', 'man', 'mate', 'math', 'matter', 'maybe', 'mean',\n",
       "       'means', 'meant', 'meet', 'meeting', 'men', 'mention', 'message',\n",
       "       'messages', 'met', 'middle', 'miles', 'miley', 'min', 'mind',\n",
       "       'minute', 'minutes', 'miss', 'missed', 'missing', 'mobile', 'mom',\n",
       "       'moment', 'mommy', 'moms', 'monday', 'money', 'month', 'months',\n",
       "       'mood', 'moon', 'morning', 'mother', 'mothers', 'moved', 'movie',\n",
       "       'movies', 'moving', 'mr', 'mum', 'mums', 'music', 'myspace', 'nap',\n",
       "       'near', 'need', 'needed', 'needs', 'net', 'new', 'news', 'nice',\n",
       "       'night', 'nights', 'nite', 'non', 'nope', 'note', 'number', 'nyc',\n",
       "       'office', 'officially', 'oh', 'ohh', 'ok', 'okay', 'old', 'omg',\n",
       "       'ones', 'online', 'ooh', 'open', 'ouch', 'outside', 'packing',\n",
       "       'page', 'paid', 'pain', 'paper', 'parents', 'park', 'party',\n",
       "       'pass', 'past', 'pay', 'pc', 'people', 'perfect', 'person',\n",
       "       'phone', 'photo', 'photos', 'pic', 'pick', 'pics', 'picture',\n",
       "       'pictures', 'pizza', 'place', 'plan', 'plans', 'play', 'played',\n",
       "       'playing', 'plurk', 'plus', 'point', 'pool', 'poor', 'post',\n",
       "       'posted', 'power', 'ppl', 'pretty', 'prob', 'probably', 'problem',\n",
       "       'problems', 'profile', 'project', 'prom', 'proud', 'public',\n",
       "       'question', 'quick', 'quiet', 'quite', 'radio', 'rain', 'raining',\n",
       "       'rainy', 'ran', 'random', 'read', 'reading', 'ready', 'real',\n",
       "       'realized', 'really', 'reason', 'red', 'relaxing', 'remember',\n",
       "       'reply', 'rest', 'revision', 'ride', 'right', 'rock', 'room',\n",
       "       'round', 'run', 'running', 'sad', 'sadly', 'safe', 'said', 'sat',\n",
       "       'saturday', 'save', 'saw', 'say', 'saying', 'says', 'scared',\n",
       "       'scary', 'school', 'screen', 'season', 'second', 'seeing', 'seen',\n",
       "       'self', 'send', 'sending', 'sent', 'seriously', 'service', 'set',\n",
       "       'sexy', 'shall', 'shame', 'share', 'shes', 'shirt', 'shoes',\n",
       "       'shop', 'shopping', 'short', 'shot', 'shower', 'shows', 'sick',\n",
       "       'sigh', 'sign', 'sing', 'singing', 'single', 'sister', 'sit',\n",
       "       'site', 'sitting', 'sleep', 'sleeping', 'sleepy', 'slept', 'slow',\n",
       "       'small', 'smile', 'snl', 'sold', 'son', 'song', 'songs', 'soo',\n",
       "       'soon', 'sooo', 'soooo', 'sore', 'sorry', 'sound', 'sounds',\n",
       "       'special', 'spend', 'spent', 'star', 'starbucks', 'start',\n",
       "       'started', 'starting', 'starts', 'stay', 'staying', 'stomach',\n",
       "       'stop', 'stopped', 'store', 'story', 'stuck', 'study', 'studying',\n",
       "       'stuff', 'stupid', 'suck', 'sucks', 'summer', 'sun', 'sunday',\n",
       "       'sunny', 'sunshine', 'super', 'support', 'supposed', 'sure',\n",
       "       'sweet', 'swine', 'taken', 'takes', 'taking', 'talent', 'talk',\n",
       "       'talking', 'taylor', 'tea', 'team', 'tell', 'test', 'text',\n",
       "       'thank', 'thanks', 'thats', 'thing', 'things', 'think', 'thinking',\n",
       "       'thinks', 'tho', 'thought', 'throat', 'thursday', 'thx', 'ticket',\n",
       "       'tickets', 'til', 'till', 'time', 'times', 'tinyurl', 'tired',\n",
       "       'today', 'told', 'tom', 'tomorrow', 'tonight', 'tonite', 'took',\n",
       "       'totally', 'touch', 'tour', 'town', 'traffic', 'train', 'trek',\n",
       "       'tried', 'trip', 'true', 'try', 'trying', 'tuesday', 'tummy',\n",
       "       'turn', 'tv', 'tweet', 'tweeting', 'tweets', 'twilight', 'twitpic',\n",
       "       'twitter', 'ugh', 'uk', 'understand', 'unfortunately', 'update',\n",
       "       'updates', 'upset', 'ur', 'use', 'used', 'using', 'usually',\n",
       "       'vacation', 've', 'vegas', 'version', 'video', 'videos', 'visit',\n",
       "       'voice', 'vote', 'wait', 'waiting', 'wake', 'waking', 'walk',\n",
       "       'walking', 'wanna', 'want', 'wanted', 'wants', 'warm', 'wars',\n",
       "       'wasn', 'watch', 'watched', 'watching', 'water', 'way', 'wear',\n",
       "       'wearing', 'weather', 'web', 'website', 'wedding', 'week',\n",
       "       'weekend', 'weeks', 'weird', 'welcome', 'went', 'whats', 'white',\n",
       "       'wife', 'win', 'windows', 'wine', 'wish', 'wishes', 'wishing',\n",
       "       'woke', 'wolverine', 'won', 'wonder', 'wonderful', 'wondering',\n",
       "       'wont', 'woo', 'word', 'words', 'work', 'worked', 'working',\n",
       "       'works', 'world', 'worried', 'worry', 'worse', 'worst', 'worth',\n",
       "       'wouldn', 'wow', 'write', 'writing', 'wrong', 'wtf', 'www', 'xd',\n",
       "       'xoxo', 'ya', 'yay', 'yea', 'yeah', 'year', 'years', 'yep', 'yes',\n",
       "       'yesterday', 'young', 'youtube', 'yum', 'yummy', 'yup', '½m'],\n",
       "      dtype=object)"
      ]
     },
     "execution_count": 102,
     "metadata": {},
     "output_type": "execute_result"
    }
   ],
   "source": [
    "data.columns.values"
   ]
  },
  {
   "cell_type": "code",
   "execution_count": 92,
   "metadata": {
    "scrolled": true
   },
   "outputs": [
    {
     "ename": "KeyError",
     "evalue": "'responded,'",
     "output_type": "error",
     "traceback": [
      "\u001b[0;31m---------------------------------------------------------------------------\u001b[0m",
      "\u001b[0;31mKeyError\u001b[0m                                  Traceback (most recent call last)",
      "File \u001b[0;32m~/opt/anaconda3/envs/tensorflow280/lib/python3.9/site-packages/pandas/core/indexes/base.py:3621\u001b[0m, in \u001b[0;36mIndex.get_loc\u001b[0;34m(self, key, method, tolerance)\u001b[0m\n\u001b[1;32m   3620\u001b[0m \u001b[38;5;28;01mtry\u001b[39;00m:\n\u001b[0;32m-> 3621\u001b[0m     \u001b[38;5;28;01mreturn\u001b[39;00m \u001b[38;5;28;43mself\u001b[39;49m\u001b[38;5;241;43m.\u001b[39;49m\u001b[43m_engine\u001b[49m\u001b[38;5;241;43m.\u001b[39;49m\u001b[43mget_loc\u001b[49m\u001b[43m(\u001b[49m\u001b[43mcasted_key\u001b[49m\u001b[43m)\u001b[49m\n\u001b[1;32m   3622\u001b[0m \u001b[38;5;28;01mexcept\u001b[39;00m \u001b[38;5;167;01mKeyError\u001b[39;00m \u001b[38;5;28;01mas\u001b[39;00m err:\n",
      "File \u001b[0;32mpandas/_libs/index.pyx:136\u001b[0m, in \u001b[0;36mpandas._libs.index.IndexEngine.get_loc\u001b[0;34m()\u001b[0m\n",
      "File \u001b[0;32mpandas/_libs/index.pyx:163\u001b[0m, in \u001b[0;36mpandas._libs.index.IndexEngine.get_loc\u001b[0;34m()\u001b[0m\n",
      "File \u001b[0;32mpandas/_libs/hashtable_class_helper.pxi:5198\u001b[0m, in \u001b[0;36mpandas._libs.hashtable.PyObjectHashTable.get_item\u001b[0;34m()\u001b[0m\n",
      "File \u001b[0;32mpandas/_libs/hashtable_class_helper.pxi:5206\u001b[0m, in \u001b[0;36mpandas._libs.hashtable.PyObjectHashTable.get_item\u001b[0;34m()\u001b[0m\n",
      "\u001b[0;31mKeyError\u001b[0m: 'responded,'",
      "\nThe above exception was the direct cause of the following exception:\n",
      "\u001b[0;31mKeyError\u001b[0m                                  Traceback (most recent call last)",
      "Input \u001b[0;32mIn [92]\u001b[0m, in \u001b[0;36m<cell line: 1>\u001b[0;34m()\u001b[0m\n\u001b[0;32m----> 1\u001b[0m \u001b[43mdata\u001b[49m\u001b[43m[\u001b[49m\u001b[38;5;124;43m'\u001b[39;49m\u001b[38;5;124;43mresponded,\u001b[39;49m\u001b[38;5;124;43m'\u001b[39;49m\u001b[43m]\u001b[49m\n",
      "File \u001b[0;32m~/opt/anaconda3/envs/tensorflow280/lib/python3.9/site-packages/pandas/core/frame.py:3505\u001b[0m, in \u001b[0;36mDataFrame.__getitem__\u001b[0;34m(self, key)\u001b[0m\n\u001b[1;32m   3503\u001b[0m \u001b[38;5;28;01mif\u001b[39;00m \u001b[38;5;28mself\u001b[39m\u001b[38;5;241m.\u001b[39mcolumns\u001b[38;5;241m.\u001b[39mnlevels \u001b[38;5;241m>\u001b[39m \u001b[38;5;241m1\u001b[39m:\n\u001b[1;32m   3504\u001b[0m     \u001b[38;5;28;01mreturn\u001b[39;00m \u001b[38;5;28mself\u001b[39m\u001b[38;5;241m.\u001b[39m_getitem_multilevel(key)\n\u001b[0;32m-> 3505\u001b[0m indexer \u001b[38;5;241m=\u001b[39m \u001b[38;5;28;43mself\u001b[39;49m\u001b[38;5;241;43m.\u001b[39;49m\u001b[43mcolumns\u001b[49m\u001b[38;5;241;43m.\u001b[39;49m\u001b[43mget_loc\u001b[49m\u001b[43m(\u001b[49m\u001b[43mkey\u001b[49m\u001b[43m)\u001b[49m\n\u001b[1;32m   3506\u001b[0m \u001b[38;5;28;01mif\u001b[39;00m is_integer(indexer):\n\u001b[1;32m   3507\u001b[0m     indexer \u001b[38;5;241m=\u001b[39m [indexer]\n",
      "File \u001b[0;32m~/opt/anaconda3/envs/tensorflow280/lib/python3.9/site-packages/pandas/core/indexes/base.py:3623\u001b[0m, in \u001b[0;36mIndex.get_loc\u001b[0;34m(self, key, method, tolerance)\u001b[0m\n\u001b[1;32m   3621\u001b[0m     \u001b[38;5;28;01mreturn\u001b[39;00m \u001b[38;5;28mself\u001b[39m\u001b[38;5;241m.\u001b[39m_engine\u001b[38;5;241m.\u001b[39mget_loc(casted_key)\n\u001b[1;32m   3622\u001b[0m \u001b[38;5;28;01mexcept\u001b[39;00m \u001b[38;5;167;01mKeyError\u001b[39;00m \u001b[38;5;28;01mas\u001b[39;00m err:\n\u001b[0;32m-> 3623\u001b[0m     \u001b[38;5;28;01mraise\u001b[39;00m \u001b[38;5;167;01mKeyError\u001b[39;00m(key) \u001b[38;5;28;01mfrom\u001b[39;00m \u001b[38;5;21;01merr\u001b[39;00m\n\u001b[1;32m   3624\u001b[0m \u001b[38;5;28;01mexcept\u001b[39;00m \u001b[38;5;167;01mTypeError\u001b[39;00m:\n\u001b[1;32m   3625\u001b[0m     \u001b[38;5;66;03m# If we have a listlike key, _check_indexing_error will raise\u001b[39;00m\n\u001b[1;32m   3626\u001b[0m     \u001b[38;5;66;03m#  InvalidIndexError. Otherwise we fall through and re-raise\u001b[39;00m\n\u001b[1;32m   3627\u001b[0m     \u001b[38;5;66;03m#  the TypeError.\u001b[39;00m\n\u001b[1;32m   3628\u001b[0m     \u001b[38;5;28mself\u001b[39m\u001b[38;5;241m.\u001b[39m_check_indexing_error(key)\n",
      "\u001b[0;31mKeyError\u001b[0m: 'responded,'"
     ]
    }
   ],
   "source": [
    "data['responded,']"
   ]
  },
  {
   "cell_type": "code",
   "execution_count": 38,
   "metadata": {},
   "outputs": [
    {
     "data": {
      "text/plain": [
       "0         neutral\n",
       "1        negative\n",
       "2        negative\n",
       "3        negative\n",
       "4        negative\n",
       "           ...   \n",
       "27476    negative\n",
       "27477    negative\n",
       "27478    positive\n",
       "27479    positive\n",
       "27480     neutral\n",
       "Name: sentiment, Length: 27480, dtype: object"
      ]
     },
     "execution_count": 38,
     "metadata": {},
     "output_type": "execute_result"
    }
   ],
   "source": [
    "df['sentiment']"
   ]
  },
  {
   "cell_type": "code",
   "execution_count": 40,
   "metadata": {},
   "outputs": [],
   "source": [
    "data_y = pd.get_dummies(df['sentiment'])"
   ]
  },
  {
   "cell_type": "code",
   "execution_count": 96,
   "metadata": {},
   "outputs": [],
   "source": [
    "X_train, X_test, y_train, y_test = train_test_split(data, data_y, test_size=0.2, random_state=0)"
   ]
  },
  {
   "cell_type": "code",
   "execution_count": 97,
   "metadata": {},
   "outputs": [
    {
     "data": {
      "text/plain": [
       "(21984, 926)"
      ]
     },
     "execution_count": 97,
     "metadata": {},
     "output_type": "execute_result"
    }
   ],
   "source": [
    "X_train.shape"
   ]
  },
  {
   "cell_type": "code",
   "execution_count": 44,
   "metadata": {},
   "outputs": [
    {
     "data": {
      "text/html": [
       "<div>\n",
       "<style scoped>\n",
       "    .dataframe tbody tr th:only-of-type {\n",
       "        vertical-align: middle;\n",
       "    }\n",
       "\n",
       "    .dataframe tbody tr th {\n",
       "        vertical-align: top;\n",
       "    }\n",
       "\n",
       "    .dataframe thead th {\n",
       "        text-align: right;\n",
       "    }\n",
       "</style>\n",
       "<table border=\"1\" class=\"dataframe\">\n",
       "  <thead>\n",
       "    <tr style=\"text-align: right;\">\n",
       "      <th></th>\n",
       "      <th>negative</th>\n",
       "      <th>neutral</th>\n",
       "      <th>positive</th>\n",
       "    </tr>\n",
       "  </thead>\n",
       "  <tbody>\n",
       "    <tr>\n",
       "      <th>24567</th>\n",
       "      <td>0</td>\n",
       "      <td>1</td>\n",
       "      <td>0</td>\n",
       "    </tr>\n",
       "    <tr>\n",
       "      <th>24619</th>\n",
       "      <td>1</td>\n",
       "      <td>0</td>\n",
       "      <td>0</td>\n",
       "    </tr>\n",
       "    <tr>\n",
       "      <th>19766</th>\n",
       "      <td>0</td>\n",
       "      <td>0</td>\n",
       "      <td>1</td>\n",
       "    </tr>\n",
       "    <tr>\n",
       "      <th>21737</th>\n",
       "      <td>0</td>\n",
       "      <td>0</td>\n",
       "      <td>1</td>\n",
       "    </tr>\n",
       "    <tr>\n",
       "      <th>8980</th>\n",
       "      <td>0</td>\n",
       "      <td>1</td>\n",
       "      <td>0</td>\n",
       "    </tr>\n",
       "    <tr>\n",
       "      <th>...</th>\n",
       "      <td>...</td>\n",
       "      <td>...</td>\n",
       "      <td>...</td>\n",
       "    </tr>\n",
       "    <tr>\n",
       "      <th>13124</th>\n",
       "      <td>0</td>\n",
       "      <td>0</td>\n",
       "      <td>1</td>\n",
       "    </tr>\n",
       "    <tr>\n",
       "      <th>19649</th>\n",
       "      <td>0</td>\n",
       "      <td>1</td>\n",
       "      <td>0</td>\n",
       "    </tr>\n",
       "    <tr>\n",
       "      <th>9846</th>\n",
       "      <td>0</td>\n",
       "      <td>1</td>\n",
       "      <td>0</td>\n",
       "    </tr>\n",
       "    <tr>\n",
       "      <th>10800</th>\n",
       "      <td>0</td>\n",
       "      <td>0</td>\n",
       "      <td>1</td>\n",
       "    </tr>\n",
       "    <tr>\n",
       "      <th>2733</th>\n",
       "      <td>0</td>\n",
       "      <td>1</td>\n",
       "      <td>0</td>\n",
       "    </tr>\n",
       "  </tbody>\n",
       "</table>\n",
       "<p>21984 rows × 3 columns</p>\n",
       "</div>"
      ],
      "text/plain": [
       "       negative  neutral  positive\n",
       "24567         0        1         0\n",
       "24619         1        0         0\n",
       "19766         0        0         1\n",
       "21737         0        0         1\n",
       "8980          0        1         0\n",
       "...         ...      ...       ...\n",
       "13124         0        0         1\n",
       "19649         0        1         0\n",
       "9846          0        1         0\n",
       "10800         0        0         1\n",
       "2733          0        1         0\n",
       "\n",
       "[21984 rows x 3 columns]"
      ]
     },
     "execution_count": 44,
     "metadata": {},
     "output_type": "execute_result"
    }
   ],
   "source": [
    "y_train"
   ]
  },
  {
   "cell_type": "code",
   "execution_count": 43,
   "metadata": {},
   "outputs": [
    {
     "data": {
      "text/plain": [
       "(21984, 3)"
      ]
     },
     "execution_count": 43,
     "metadata": {},
     "output_type": "execute_result"
    }
   ],
   "source": [
    "y_train.shape"
   ]
  },
  {
   "cell_type": "code",
   "execution_count": 98,
   "metadata": {},
   "outputs": [],
   "source": [
    "\n",
    "#Now let's make a simple neural network with 1 hidden layer containing 10 neurons\n",
    "num_neurons = 100 # neurons in each layer\n",
    "model = Sequential()\n",
    "\n",
    "#Make the first (hidden) layer, which will have num_neurons neurons. Each neuron will get inputs from all columns of the dataframe, except sentiment\n",
    "#model.add(Dense(num_neurons, input_dim=len(data.columns)-1))\n",
    "model.add(Dense(num_neurons, input_dim=np.shape(X_train)[1]))\n",
    "model.add(Activation('relu')) #Now we'll use a sigmoid activation function\n",
    "\n",
    "model.add(Dense(num_neurons))\n",
    "model.add(Activation('relu'))\n",
    "\n",
    "#Now let's add another layer for the output: A single sigmoid neuron.\n",
    "model.add(Dense(3)) \n",
    "model.add(Activation('softmax'))\n",
    "\n",
    "\n",
    "\n"
   ]
  },
  {
   "cell_type": "code",
   "execution_count": 99,
   "metadata": {},
   "outputs": [
    {
     "name": "stdout",
     "output_type": "stream",
     "text": [
      "Model: \"sequential_14\"\n",
      "_________________________________________________________________\n",
      " Layer (type)                Output Shape              Param #   \n",
      "=================================================================\n",
      " dense_44 (Dense)            (None, 100)               92700     \n",
      "                                                                 \n",
      " activation_44 (Activation)  (None, 100)               0         \n",
      "                                                                 \n",
      " dense_45 (Dense)            (None, 100)               10100     \n",
      "                                                                 \n",
      " activation_45 (Activation)  (None, 100)               0         \n",
      "                                                                 \n",
      " dense_46 (Dense)            (None, 3)                 303       \n",
      "                                                                 \n",
      " activation_46 (Activation)  (None, 3)                 0         \n",
      "                                                                 \n",
      "=================================================================\n",
      "Total params: 103,103\n",
      "Trainable params: 103,103\n",
      "Non-trainable params: 0\n",
      "_________________________________________________________________\n"
     ]
    }
   ],
   "source": [
    "model.summary()"
   ]
  },
  {
   "cell_type": "code",
   "execution_count": 100,
   "metadata": {},
   "outputs": [
    {
     "name": "stderr",
     "output_type": "stream",
     "text": [
      "/Users/lfy/opt/anaconda3/envs/tensorflow280/lib/python3.9/site-packages/keras/optimizer_v2/gradient_descent.py:102: UserWarning: The `lr` argument is deprecated, use `learning_rate` instead.\n",
      "  super(SGD, self).__init__(name, **kwargs)\n"
     ]
    }
   ],
   "source": [
    "#Use compile() to set up our training\n",
    "\n",
    "# For loss, we'll use binary cross-entropy loss, \n",
    "# which is appropriate for a binary classification problem (0/1 for negative/positive)\n",
    "# ***If you edit this notebook to apply it to a multi-class classification problem, you'll need \n",
    "#    to change the loss to something like categorical_crossentropy, and you'll also need to change the\n",
    "#    encoding of the class to a one hot representation (see https://machinelearningmastery.com/how-to-choose-loss-functions-when-training-deep-learning-neural-networks/)\n",
    "\n",
    "opt = SGD(lr=0.01, momentum=0.9)\n",
    "model.compile(optimizer=opt,\n",
    "              loss='categorical_crossentropy',\n",
    "              metrics=['accuracy'])\n",
    "\n"
   ]
  },
  {
   "cell_type": "code",
   "execution_count": 101,
   "metadata": {},
   "outputs": [
    {
     "name": "stdout",
     "output_type": "stream",
     "text": [
      "Epoch 1/20\n",
      " 18/687 [..............................] - ETA: 4s - loss: 1.0939 - accuracy: 0.3698"
     ]
    },
    {
     "name": "stderr",
     "output_type": "stream",
     "text": [
      "2022-05-05 22:14:59.727714: I tensorflow/core/grappler/optimizers/custom_graph_optimizer_registry.cc:113] Plugin optimizer for device_type GPU is enabled.\n"
     ]
    },
    {
     "name": "stdout",
     "output_type": "stream",
     "text": [
      "683/687 [============================>.] - ETA: 0s - loss: 0.9318 - accuracy: 0.5574"
     ]
    },
    {
     "name": "stderr",
     "output_type": "stream",
     "text": [
      "2022-05-05 22:15:04.032164: I tensorflow/core/grappler/optimizers/custom_graph_optimizer_registry.cc:113] Plugin optimizer for device_type GPU is enabled.\n"
     ]
    },
    {
     "name": "stdout",
     "output_type": "stream",
     "text": [
      "687/687 [==============================] - 5s 8ms/step - loss: 0.9316 - accuracy: 0.5575 - val_loss: 0.8283 - val_accuracy: 0.6403\n",
      "Epoch 2/20\n",
      "687/687 [==============================] - 5s 7ms/step - loss: 0.7628 - accuracy: 0.6801 - val_loss: 0.7650 - val_accuracy: 0.6763\n",
      "Epoch 3/20\n",
      "687/687 [==============================] - 5s 7ms/step - loss: 0.7210 - accuracy: 0.7048 - val_loss: 0.7506 - val_accuracy: 0.6900\n",
      "Epoch 4/20\n",
      "687/687 [==============================] - 5s 7ms/step - loss: 0.6925 - accuracy: 0.7172 - val_loss: 0.7588 - val_accuracy: 0.6869\n",
      "Epoch 5/20\n",
      "687/687 [==============================] - 5s 8ms/step - loss: 0.6663 - accuracy: 0.7277 - val_loss: 0.7508 - val_accuracy: 0.6930\n",
      "Epoch 6/20\n",
      "687/687 [==============================] - 5s 7ms/step - loss: 0.6449 - accuracy: 0.7397 - val_loss: 0.7621 - val_accuracy: 0.6865\n",
      "Epoch 7/20\n",
      "687/687 [==============================] - 5s 7ms/step - loss: 0.6212 - accuracy: 0.7524 - val_loss: 0.7840 - val_accuracy: 0.6679\n",
      "Epoch 8/20\n",
      "687/687 [==============================] - 5s 7ms/step - loss: 0.5920 - accuracy: 0.7620 - val_loss: 0.7805 - val_accuracy: 0.6798\n",
      "Epoch 9/20\n",
      "687/687 [==============================] - 5s 8ms/step - loss: 0.5615 - accuracy: 0.7774 - val_loss: 0.8258 - val_accuracy: 0.6805\n",
      "Epoch 10/20\n",
      "687/687 [==============================] - 5s 7ms/step - loss: 0.5278 - accuracy: 0.7943 - val_loss: 0.8391 - val_accuracy: 0.6645\n",
      "Epoch 11/20\n",
      "687/687 [==============================] - 5s 8ms/step - loss: 0.4907 - accuracy: 0.8084 - val_loss: 0.8840 - val_accuracy: 0.6699\n",
      "Epoch 12/20\n",
      "687/687 [==============================] - 5s 8ms/step - loss: 0.4480 - accuracy: 0.8285 - val_loss: 0.9284 - val_accuracy: 0.6590\n",
      "Epoch 13/20\n",
      "687/687 [==============================] - 5s 8ms/step - loss: 0.4190 - accuracy: 0.8390 - val_loss: 0.9763 - val_accuracy: 0.6559\n",
      "Epoch 14/20\n",
      "687/687 [==============================] - 5s 8ms/step - loss: 0.3788 - accuracy: 0.8548 - val_loss: 1.0567 - val_accuracy: 0.6299\n",
      "Epoch 15/20\n",
      "687/687 [==============================] - 5s 8ms/step - loss: 0.3547 - accuracy: 0.8673 - val_loss: 1.0767 - val_accuracy: 0.6472\n",
      "Epoch 16/20\n",
      "687/687 [==============================] - 5s 7ms/step - loss: 0.3205 - accuracy: 0.8802 - val_loss: 1.1742 - val_accuracy: 0.6447\n",
      "Epoch 17/20\n",
      "687/687 [==============================] - 5s 8ms/step - loss: 0.2991 - accuracy: 0.8883 - val_loss: 1.1921 - val_accuracy: 0.6476\n",
      "Epoch 18/20\n",
      "687/687 [==============================] - 5s 8ms/step - loss: 0.2835 - accuracy: 0.8949 - val_loss: 1.3003 - val_accuracy: 0.6372\n",
      "Epoch 19/20\n",
      "687/687 [==============================] - 5s 8ms/step - loss: 0.2596 - accuracy: 0.9056 - val_loss: 1.4128 - val_accuracy: 0.6392\n",
      "Epoch 20/20\n",
      "687/687 [==============================] - 5s 7ms/step - loss: 0.2365 - accuracy: 0.9131 - val_loss: 1.3855 - val_accuracy: 0.6406\n"
     ]
    }
   ],
   "source": [
    "#Train it!\n",
    "# Plus store history of training in a variable called \"history\"\n",
    "history = model.fit(X_train, y_train, epochs=20, validation_data=(X_test, y_test))"
   ]
  },
  {
   "cell_type": "code",
   "execution_count": 103,
   "metadata": {},
   "outputs": [
    {
     "data": {
      "text/plain": [
       "<matplotlib.legend.Legend at 0x2ee977b80>"
      ]
     },
     "execution_count": 103,
     "metadata": {},
     "output_type": "execute_result"
    },
    {
     "data": {
      "image/png": "[encoded data removed]",
      "text/plain": [
       "<Figure size 432x288 with 1 Axes>"
      ]
     },
     "metadata": {
      "needs_background": "light"
     },
     "output_type": "display_data"
    }
   ],
   "source": [
    "plt.plot(history.history['accuracy'], label='training set accuracy')\n",
    "plt.plot(history.history['val_accuracy'], label = 'test set accuracy')\n",
    "plt.xlabel('Epoch')\n",
    "plt.ylabel('Accuracy')\n",
    "plt.ylim([0.5, 1])\n",
    "plt.legend(loc='lower right')\n"
   ]
  },
  {
   "cell_type": "markdown",
   "metadata": {},
   "source": [
    "## Dataset  \n",
    "[Twitter Tweets Sentiment Dataset](https://www.kaggle.com/datasets/yasserh/twitter-tweets-sentiment-dataset)  \n",
    "\n",
    "## Changes  \n",
    "\n",
    "label: 0/1 -> one-hot representation  \n",
    "Final dense layer: 1 -> 3  \n",
    "Activation Function: Sigmoid -> Softmax  \n",
    "Loss Function: `binary_crossentropy` -> `categorical_crossentropy`. \n",
    "\n",
    "## Output  \n",
    "\n",
    "Train accuracy: 0.9131  \n",
    "Validation accuracy: 0.6406  \n",
    "\n",
    "## Evaluation  \n",
    "\n",
    "The model can't recognise synonyms in the input, and the dataset is not generalise enough for new dataset."
   ]
  },
  {
   "cell_type": "code",
   "execution_count": null,
   "metadata": {},
   "outputs": [],
   "source": []
  }
 ],
 "metadata": {
  "colab": {
   "collapsed_sections": [],
   "name": "NLP Week 4.2-Neural network intro.ipynb",
   "provenance": []
  },
  "kernelspec": {
   "display_name": "Python 3 (ipykernel)",
   "language": "python",
   "name": "python3"
  },
  "language_info": {
   "codemirror_mode": {
    "name": "ipython",
    "version": 3
   },
   "file_extension": ".py",
   "mimetype": "text/x-python",
   "name": "python",
   "nbconvert_exporter": "python",
   "pygments_lexer": "ipython3",
   "version": "3.9.10"
  }
 },
 "nbformat": 4,
 "nbformat_minor": 1
}
